{
  "nbformat": 4,
  "nbformat_minor": 0,
  "metadata": {
    "colab": {
      "name": "20220131.ipynb",
      "provenance": [],
      "collapsed_sections": [],
      "authorship_tag": "ABX9TyMcz/OM6ZwYNZrdTQ28n4fx",
      "include_colab_link": true
    },
    "kernelspec": {
      "name": "python3",
      "display_name": "Python 3"
    },
    "language_info": {
      "name": "python"
    }
  },
  "cells": [
    {
      "cell_type": "markdown",
      "metadata": {
        "id": "view-in-github",
        "colab_type": "text"
      },
      "source": [
        "<a href=\"https://colab.research.google.com/github/suri-pu-bi/baekjoon_study/blob/main/20220131.ipynb\" target=\"_parent\"><img src=\"https://colab.research.google.com/assets/colab-badge.svg\" alt=\"Open In Colab\"/></a>"
      ]
    },
    {
      "cell_type": "code",
      "execution_count": 39,
      "metadata": {
        "colab": {
          "base_uri": "https://localhost:8080/"
        },
        "id": "F3wsHbJ6qOXs",
        "outputId": "ba8fb8ef-8262-4fa9-9197-aa8df380acd7"
      },
      "outputs": [
        {
          "name": "stdout",
          "output_type": "stream",
          "text": [
            "3\n",
            "200 159 29\n"
          ]
        }
      ],
      "source": [
        "# 1267\n",
        "\n",
        "N = int(input())\n",
        "\n",
        "call_time = list(map(int,input().split()))\n",
        "\n",
        "# print(N)\n",
        "# print(call_time)\n"
      ]
    },
    {
      "cell_type": "code",
      "source": [
        "Y = 0\n",
        "for i in range(N):  \n",
        "  a = call_time[i]// 30 \n",
        "  if 0<=call_time[i]<30 :\n",
        "    Y += 10\n",
        "  else :\n",
        "    Y += a*10 + 10\n",
        "\n",
        "M = 0\n",
        "for i in range(N):  \n",
        "  b = call_time[i]// 60\n",
        "  if 0<=call_time[i]<60 :\n",
        "    M += 15\n",
        "  else :\n",
        "    M += b*15 + 15\n",
        "\n",
        "# print(Y,M)"
      ],
      "metadata": {
        "id": "jGJFetxuqR2I"
      },
      "execution_count": 40,
      "outputs": []
    },
    {
      "cell_type": "code",
      "source": [
        "if Y>M:\n",
        "  print(\"M\",M)\n",
        "elif Y<M:\n",
        "  print(\"Y\",Y)\n",
        "else :\n",
        "  print(\"Y M\",Y)"
      ],
      "metadata": {
        "colab": {
          "base_uri": "https://localhost:8080/"
        },
        "id": "2RmrvDG4srdo",
        "outputId": "f67d6ca2-9c74-41a7-b025-430ada48b8a5"
      },
      "execution_count": 41,
      "outputs": [
        {
          "output_type": "stream",
          "name": "stdout",
          "text": [
            "M 120\n"
          ]
        }
      ]
    },
    {
      "cell_type": "code",
      "source": [
        "# 1100\n",
        "# 2차원 배열 초기화\n",
        "# chess_list = [[0 for col in range(8)] for row in range(8)]\n",
        "chess_list = [[],[],[],[],[],[],[],[]]\n",
        "for i in range(8):\n",
        "  width = list(input())\n",
        "  for j in range(8):\n",
        "    chess_list[i].append(width[j])\n",
        "\n",
        "# print(chess_list)\n",
        "\n",
        "cnt = 0\n",
        "\n",
        "for i in range(0,8,2):\n",
        "  for j in range(0,8,2):\n",
        "    if 'F' == chess_list[i][j]:\n",
        "      cnt += 1\n",
        "\n",
        "for i in range(1,8,2):\n",
        "  for j in range(1,8,2):\n",
        "    if 'F' == chess_list[i][j]:\n",
        "      cnt += 1\n",
        "print(cnt)\n",
        "\n",
        "# np.array(range(8))).reshape(8,8)\n",
        "\n"
      ],
      "metadata": {
        "colab": {
          "base_uri": "https://localhost:8080/"
        },
        "id": "9saL9i7_91zR",
        "outputId": "f3b96fed-0d4b-46eb-c0d6-09d18fc01cfd"
      },
      "execution_count": 58,
      "outputs": [
        {
          "output_type": "stream",
          "name": "stdout",
          "text": [
            ".F.F...F\n",
            "F...F.F.\n",
            "...F.F.F\n",
            "F.F...F.\n",
            ".F...F..\n",
            "F...F.F.\n",
            ".F.F.F.F\n",
            "..FF..F.\n",
            "[['.', 'F', '.', 'F', '.', '.', '.', 'F'], ['F', '.', '.', '.', 'F', '.', 'F', '.'], ['.', '.', '.', 'F', '.', 'F', '.', 'F'], ['F', '.', 'F', '.', '.', '.', 'F', '.'], ['.', 'F', '.', '.', '.', 'F', '.', '.'], ['F', '.', '.', '.', 'F', '.', 'F', '.'], ['.', 'F', '.', 'F', '.', 'F', '.', 'F'], ['.', '.', 'F', 'F', '.', '.', 'F', '.']]\n",
            "1\n"
          ]
        }
      ]
    }
  ]
}