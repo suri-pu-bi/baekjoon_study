{
  "nbformat": 4,
  "nbformat_minor": 0,
  "metadata": {
    "colab": {
      "name": "20220201.ipynb",
      "provenance": [],
      "collapsed_sections": [],
      "authorship_tag": "ABX9TyMEOCR0c6wP5Lz0GYNyeAIJ",
      "include_colab_link": true
    },
    "kernelspec": {
      "name": "python3",
      "display_name": "Python 3"
    },
    "language_info": {
      "name": "python"
    }
  },
  "cells": [
    {
      "cell_type": "markdown",
      "metadata": {
        "id": "view-in-github",
        "colab_type": "text"
      },
      "source": [
        "<a href=\"https://colab.research.google.com/github/suri-pu-bi/baekjoon_study/blob/main/20220201.ipynb\" target=\"_parent\"><img src=\"https://colab.research.google.com/assets/colab-badge.svg\" alt=\"Open In Colab\"/></a>"
      ]
    },
    {
      "cell_type": "code",
      "execution_count": 10,
      "metadata": {
        "colab": {
          "base_uri": "https://localhost:8080/"
        },
        "id": "J29RLcTCRgy8",
        "outputId": "2eab699d-440b-45fb-b2a0-6781972ed4cd"
      },
      "outputs": [
        {
          "output_type": "stream",
          "name": "stdout",
          "text": [
            "g Programming Contest\n",
            "n New Zealand\n",
            "x This is quite a simple problem.\n",
            "#\n",
            "g 2\n",
            "n 2\n",
            "x 0\n"
          ]
        }
      ],
      "source": [
        "# 2386\n",
        "cnt_list = []\n",
        "while True:\n",
        "    sen= input()\n",
        "    sen_= sen.split() # 문자열을 공백을 구분자로 나누어 리스트 생성 ('a'/a를 구분자로 나누어 리스트 생성)\n",
        "    if sen_[0]==\"#\":\n",
        "        break\n",
        "    cnt_list.append(sen_[0])\n",
        "    sen__ = (' ').join(sen_[1:])\n",
        "    # print(sen__)\n",
        "    sen__ = sen__.lower()\n",
        "    # print(sen__)\n",
        "    cnt = sen__.count(sen_[0])\n",
        "    cnt_list.append(cnt)\n",
        "for i in range(0,len(cnt_list),2):\n",
        "    print(cnt_list[i], cnt_list[i+1])"
      ]
    },
    {
      "cell_type": "code",
      "source": [
        "# 2851\n",
        "mushroom_list = []\n",
        "for i in range(10):\n",
        "  mushroom = int(input())\n",
        "  mushroom_list.append(mushroom)\n",
        "\n",
        "# print(mushroom_list)\n",
        "\n",
        "b_score = 0\n",
        "for i in range(9):\n",
        "  b_score = b_score + mushroom_list[i]\n",
        "  a_score = b_score + mushroom_list[i+1]\n",
        "  # print(b_score, a_score)\n",
        "  if a_score >= 100 and b_score <= 100 and 100-b_score >= a_score-100:\n",
        "    print(a_score)\n",
        "    break\n",
        "  elif a_score >= 100 and b_score <= 100 and 100-b_score < a_score-100:\n",
        "    print(b_score)\n",
        "    break\n",
        "  elif a_score < 100 and b_score < 100 and i==8 :\n",
        "    print(a_score)\n",
        "    break\n",
        "    "
      ],
      "metadata": {
        "colab": {
          "base_uri": "https://localhost:8080/"
        },
        "id": "54y-vFtcW5C1",
        "outputId": "bcc44440-6c5f-49ab-93b6-57178349557c"
      },
      "execution_count": 23,
      "outputs": [
        {
          "output_type": "stream",
          "name": "stdout",
          "text": [
            "1\n",
            "1\n",
            "1\n",
            "1\n",
            "1\n",
            "1\n",
            "1\n",
            "1\n",
            "1\n",
            "1\n",
            "1 2\n",
            "2 3\n",
            "3 4\n",
            "4 5\n",
            "5 6\n",
            "6 7\n",
            "7 8\n",
            "8 9\n",
            "9 10\n",
            "10\n"
          ]
        }
      ]
    }
  ]
}