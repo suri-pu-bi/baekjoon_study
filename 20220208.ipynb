{
  "nbformat": 4,
  "nbformat_minor": 0,
  "metadata": {
    "colab": {
      "name": "20220208.ipynb",
      "provenance": [],
      "authorship_tag": "ABX9TyMjNdnJ3lRXeA3PF2bJfTmY",
      "include_colab_link": true
    },
    "kernelspec": {
      "name": "python3",
      "display_name": "Python 3"
    },
    "language_info": {
      "name": "python"
    }
  },
  "cells": [
    {
      "cell_type": "markdown",
      "metadata": {
        "id": "view-in-github",
        "colab_type": "text"
      },
      "source": [
        "<a href=\"https://colab.research.google.com/github/suri-pu-bi/baekjoon_study/blob/main/20220208.ipynb\" target=\"_parent\"><img src=\"https://colab.research.google.com/assets/colab-badge.svg\" alt=\"Open In Colab\"/></a>"
      ]
    },
    {
      "cell_type": "code",
      "execution_count": 8,
      "metadata": {
        "colab": {
          "base_uri": "https://localhost:8080/"
        },
        "id": "sZtc0vEa8A1u",
        "outputId": "a26e2cee-272c-4d3d-8fb8-1d4d89e47931"
      },
      "outputs": [
        {
          "output_type": "stream",
          "name": "stdout",
          "text": [
            "71\n",
            "71\n",
            "12\n"
          ]
        }
      ],
      "source": [
        "# 1110\n",
        "N = input()\n",
        "if int(N)>=10 :\n",
        "  first = N\n",
        "else :\n",
        "  first = \"0\" + N\n",
        "\n",
        "# print(first)\n",
        "cnt = 0\n",
        "\n",
        "while True:\n",
        "  if int(N)>=10:\n",
        "    new = int(N)//10 + int(N)%10\n",
        "    if new//10 >= 1 :\n",
        "      n_number = N[1] + str(new)[1]\n",
        "    else :\n",
        "      n_number = N[1] + str(new)\n",
        "    N = n_number\n",
        "    cnt += 1 \n",
        "    # print(n_number)\n",
        "    # print(cnt)\n",
        "    \n",
        "  else: \n",
        "    n_number = str(int(N)) + str(int(N))\n",
        "    N = n_number\n",
        "    cnt += 1 \n",
        "    # print(n_number)\n",
        "    # print(cnt)\n",
        "  \n",
        "  if first == n_number :\n",
        "    print(cnt)\n",
        "    break\n",
        "  \n"
      ]
    },
    {
      "cell_type": "code",
      "source": [
        "# 1919\n",
        "\n",
        "str1 = list(input())\n",
        "str2 = list(input())\n",
        "\n",
        "# list.remove() 는 리스트를 변환 시킨 후 아무것도 반환하지 않음 \n",
        "# 그래서 remove의 반환값을 사용하려고 하면 Nonetype error 발생\n",
        "# Error Code : str1 = str1.remove(str1[i]) \n",
        "\n",
        "# 리스트에서 요소를 삭제할 때, 앞에서부터 돌리면 indexerror 발생\n",
        "# 뒤에서부터 for문을 돌리자\n",
        "\n",
        "len1 = len(str1)\n",
        "len2 = len(str2)\n",
        "for i in range(len1-1,-1,-1):\n",
        "  for j in range(len2-1,-1,-1):\n",
        "    if str1[i] == str2[j]:\n",
        "      str1.remove(str1[i])\n",
        "      str2.remove(str2[j])\n",
        "      len1 = len(str1)\n",
        "      len2 = len(str2)\n",
        "      len1 -= 1\n",
        "      print(str1,str2,len1,len2)\n",
        "      \n",
        "    \n",
        "print(str1)\n",
        "print(str2)\n",
        "print(len(str1)+len(str2))\n"
      ],
      "metadata": {
        "colab": {
          "base_uri": "https://localhost:8080/",
          "height": 299
        },
        "id": "VKtJRCQA0E4k",
        "outputId": "f7ffebbb-a7d9-42bf-a3a9-a2c6bf096fc1"
      },
      "execution_count": 42,
      "outputs": [
        {
          "output_type": "stream",
          "name": "stdout",
          "text": [
            "abread\n",
            "dbread\n",
            "['a', 'b', 'r', 'e', 'a'] ['b', 'r', 'e', 'a', 'd'] 5 5\n"
          ]
        },
        {
          "output_type": "error",
          "ename": "IndexError",
          "evalue": "ignored",
          "traceback": [
            "\u001b[0;31m---------------------------------------------------------------------------\u001b[0m",
            "\u001b[0;31mIndexError\u001b[0m                                Traceback (most recent call last)",
            "\u001b[0;32m<ipython-input-42-d6c811409788>\u001b[0m in \u001b[0;36m<module>\u001b[0;34m()\u001b[0m\n\u001b[1;32m     15\u001b[0m \u001b[0;32mfor\u001b[0m \u001b[0mi\u001b[0m \u001b[0;32min\u001b[0m \u001b[0mrange\u001b[0m\u001b[0;34m(\u001b[0m\u001b[0mlen1\u001b[0m\u001b[0;34m-\u001b[0m\u001b[0;36m1\u001b[0m\u001b[0;34m,\u001b[0m\u001b[0;34m-\u001b[0m\u001b[0;36m1\u001b[0m\u001b[0;34m,\u001b[0m\u001b[0;34m-\u001b[0m\u001b[0;36m1\u001b[0m\u001b[0;34m)\u001b[0m\u001b[0;34m:\u001b[0m\u001b[0;34m\u001b[0m\u001b[0;34m\u001b[0m\u001b[0m\n\u001b[1;32m     16\u001b[0m   \u001b[0;32mfor\u001b[0m \u001b[0mj\u001b[0m \u001b[0;32min\u001b[0m \u001b[0mrange\u001b[0m\u001b[0;34m(\u001b[0m\u001b[0mlen2\u001b[0m\u001b[0;34m-\u001b[0m\u001b[0;36m1\u001b[0m\u001b[0;34m,\u001b[0m\u001b[0;34m-\u001b[0m\u001b[0;36m1\u001b[0m\u001b[0;34m,\u001b[0m\u001b[0;34m-\u001b[0m\u001b[0;36m1\u001b[0m\u001b[0;34m)\u001b[0m\u001b[0;34m:\u001b[0m\u001b[0;34m\u001b[0m\u001b[0;34m\u001b[0m\u001b[0m\n\u001b[0;32m---> 17\u001b[0;31m     \u001b[0;32mif\u001b[0m \u001b[0mstr1\u001b[0m\u001b[0;34m[\u001b[0m\u001b[0mi\u001b[0m\u001b[0;34m]\u001b[0m \u001b[0;34m==\u001b[0m \u001b[0mstr2\u001b[0m\u001b[0;34m[\u001b[0m\u001b[0mj\u001b[0m\u001b[0;34m]\u001b[0m\u001b[0;34m:\u001b[0m\u001b[0;34m\u001b[0m\u001b[0;34m\u001b[0m\u001b[0m\n\u001b[0m\u001b[1;32m     18\u001b[0m       \u001b[0mstr1\u001b[0m\u001b[0;34m.\u001b[0m\u001b[0mremove\u001b[0m\u001b[0;34m(\u001b[0m\u001b[0mstr1\u001b[0m\u001b[0;34m[\u001b[0m\u001b[0mi\u001b[0m\u001b[0;34m]\u001b[0m\u001b[0;34m)\u001b[0m\u001b[0;34m\u001b[0m\u001b[0;34m\u001b[0m\u001b[0m\n\u001b[1;32m     19\u001b[0m       \u001b[0mstr2\u001b[0m\u001b[0;34m.\u001b[0m\u001b[0mremove\u001b[0m\u001b[0;34m(\u001b[0m\u001b[0mstr2\u001b[0m\u001b[0;34m[\u001b[0m\u001b[0mj\u001b[0m\u001b[0;34m]\u001b[0m\u001b[0;34m)\u001b[0m\u001b[0;34m\u001b[0m\u001b[0;34m\u001b[0m\u001b[0m\n",
            "\u001b[0;31mIndexError\u001b[0m: list index out of range"
          ]
        }
      ]
    }
  ]
}