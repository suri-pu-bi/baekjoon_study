{
  "nbformat": 4,
  "nbformat_minor": 0,
  "metadata": {
    "colab": {
      "name": "20220216.ipynb",
      "provenance": [],
      "authorship_tag": "ABX9TyPCfPLkuRUKH5tsKk29CdKo",
      "include_colab_link": true
    },
    "kernelspec": {
      "name": "python3",
      "display_name": "Python 3"
    },
    "language_info": {
      "name": "python"
    }
  },
  "cells": [
    {
      "cell_type": "markdown",
      "metadata": {
        "id": "view-in-github",
        "colab_type": "text"
      },
      "source": [
        "<a href=\"https://colab.research.google.com/github/suri-pu-bi/baekjoon_study/blob/main/20220216.ipynb\" target=\"_parent\"><img src=\"https://colab.research.google.com/assets/colab-badge.svg\" alt=\"Open In Colab\"/></a>"
      ]
    },
    {
      "cell_type": "code",
      "execution_count": 3,
      "metadata": {
        "colab": {
          "base_uri": "https://localhost:8080/"
        },
        "id": "quf_A5paWnX3",
        "outputId": "1cfaa5b6-b9d8-4e19-9199-dc4355251c69"
      },
      "outputs": [
        {
          "output_type": "stream",
          "name": "stdout",
          "text": [
            "4\n",
            "4 * 1 = 4\n",
            "4 * 2 = 8\n",
            "4 * 3 = 12\n",
            "4 * 4 = 16\n",
            "4 * 5 = 20\n",
            "4 * 6 = 24\n",
            "4 * 7 = 28\n",
            "4 * 8 = 32\n",
            "4 * 9 = 36\n"
          ]
        }
      ],
      "source": [
        "#2739\n",
        "N = int(input())\n",
        "\n",
        "for i in range(1,10):\n",
        "  N_ = N*i \n",
        "  print(\"{0} * {1} = {2}\".format(N,i,N_))"
      ]
    },
    {
      "cell_type": "code",
      "source": [
        "# 1152\n",
        "\n",
        "str = input().split()\n",
        "\n",
        "print(len(str))"
      ],
      "metadata": {
        "colab": {
          "base_uri": "https://localhost:8080/"
        },
        "id": "Q1GsCH_jXTN2",
        "outputId": "0fbfdade-b64a-43d4-add0-26a443c69f53"
      },
      "execution_count": 8,
      "outputs": [
        {
          "output_type": "stream",
          "name": "stdout",
          "text": [
            "The last character is a blank\n",
            "6\n"
          ]
        }
      ]
    },
    {
      "cell_type": "code",
      "source": [
        "# 1453\n",
        "\n",
        "N = int(input())\n",
        "\n",
        "sit = list(map(int,input().split()))\n",
        "\n",
        "# print(sit)\n",
        "cnt = 0\n",
        "for i in range(N):\n",
        "  for j in range(i+1,N):\n",
        "    if sit[i] == sit[j]:\n",
        "      cnt += 1 \n",
        "      break\n",
        "\n",
        "print(cnt) "
      ],
      "metadata": {
        "colab": {
          "base_uri": "https://localhost:8080/"
        },
        "id": "GHkR3DXsYfkJ",
        "outputId": "0776c44d-f1cf-4b57-8c8f-6d05dadf627c"
      },
      "execution_count": 14,
      "outputs": [
        {
          "output_type": "stream",
          "name": "stdout",
          "text": [
            "6\n",
            "2 3 4 3 2 2\n",
            "3\n"
          ]
        }
      ]
    },
    {
      "cell_type": "code",
      "source": [
        "# 1919\n",
        "\n",
        "str1 = list(input())\n",
        "str2 = list(input())\n",
        "\n",
        "# list.remove() 는 리스트를 변환 시킨 후 아무것도 반환하지 않음 \n",
        "# 그래서 remove의 반환값을 사용하려고 하면 Nonetype error 발생\n",
        "# Error Code : str1 = str1.remove(str1[i]) \n",
        "\n",
        "# 리스트에서 요소를 삭제할 때, 앞에서부터 돌리면 indexerror 발생\n",
        "# 뒤에서부터 for문을 돌리자\n",
        "\n",
        "same_num1 = []\n",
        "same_num2 = []\n",
        "\n",
        "cnt = 0\n",
        "for i in range(len(str1)):\n",
        "  for j in range(len(str2)):\n",
        "    if str1[i] == str2[j]:\n",
        "      if j not in same_num2:  \n",
        "        same_num1.append(i)\n",
        "        same_num2.append(j)\n",
        "        break\n",
        "\n",
        "\n",
        "# print(same_num1)\n",
        "# print(same_num2)\n",
        "\n",
        "ani1 = len(str1) - len(same_num1) \n",
        "ani2 = len(str2) - len(same_num2)\n",
        "\n",
        "# print(str1)\n",
        "# print(str2)\n",
        "\n",
        "print(ani1+ani2)"
      ],
      "metadata": {
        "colab": {
          "base_uri": "https://localhost:8080/"
        },
        "id": "_qiKRacpdr_X",
        "outputId": "38f90fcf-efda-47ca-bd15-df85fa2e2824"
      },
      "execution_count": 25,
      "outputs": [
        {
          "output_type": "stream",
          "name": "stdout",
          "text": [
            "occurs\n",
            "succor\n",
            "[0, 1, 2, 3, 4, 5]\n",
            "[4, 2, 3, 1, 5, 0]\n",
            "['o', 'c', 'c', 'u', 'r', 's']\n",
            "['s', 'u', 'c', 'c', 'o', 'r']\n",
            "0\n"
          ]
        }
      ]
    },
    {
      "cell_type": "code",
      "source": [
        "# 2562\n",
        "\n",
        "num_list = []\n",
        "for i in range(9):\n",
        "  num = int(input())\n",
        "  num_list.append(num)\n",
        "\n",
        "max_num = max(num_list)\n",
        "max_index = num_list.index(max_num)\n",
        "\n",
        "print(max_num)\n",
        "print(max_index+1)"
      ],
      "metadata": {
        "colab": {
          "base_uri": "https://localhost:8080/"
        },
        "id": "sLITJAiTeJNu",
        "outputId": "080231bf-0246-477d-c86d-386c64633e68"
      },
      "execution_count": 15,
      "outputs": [
        {
          "output_type": "stream",
          "name": "stdout",
          "text": [
            "3\n",
            "29\n",
            "38\n",
            "12\n",
            "57\n",
            "74\n",
            "40\n",
            "85\n",
            "61\n",
            "85\n",
            "7\n"
          ]
        }
      ]
    }
  ]
}