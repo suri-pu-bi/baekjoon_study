{
  "nbformat": 4,
  "nbformat_minor": 0,
  "metadata": {
    "colab": {
      "name": "20220218, 20.ipynb",
      "provenance": [],
      "authorship_tag": "ABX9TyP+XtoW6/3THY92SCvLotFd",
      "include_colab_link": true
    },
    "kernelspec": {
      "name": "python3",
      "display_name": "Python 3"
    },
    "language_info": {
      "name": "python"
    }
  },
  "cells": [
    {
      "cell_type": "markdown",
      "metadata": {
        "id": "view-in-github",
        "colab_type": "text"
      },
      "source": [
        "<a href=\"https://colab.research.google.com/github/suri-pu-bi/baekjoon_study/blob/main/20220218%2C_20.ipynb\" target=\"_parent\"><img src=\"https://colab.research.google.com/assets/colab-badge.svg\" alt=\"Open In Colab\"/></a>"
      ]
    },
    {
      "cell_type": "code",
      "execution_count": null,
      "metadata": {
        "colab": {
          "base_uri": "https://localhost:8080/"
        },
        "id": "sMj2aNDyw-Ke",
        "outputId": "0de0beb2-922c-44c3-f132-d5a4a98be874"
      },
      "outputs": [
        {
          "output_type": "stream",
          "name": "stdout",
          "text": [
            "150\n",
            "266\n",
            "427\n",
            "3\n",
            "1\n",
            "0\n",
            "2\n",
            "0\n",
            "0\n",
            "0\n",
            "2\n",
            "0\n",
            "0\n"
          ]
        }
      ],
      "source": [
        "# 2577\n",
        "\n",
        "A = input()\n",
        "B = input()\n",
        "C = input()\n",
        "\n",
        "result = str(int(A) * int(B) * int(C))\n",
        "\n",
        "# r_list = list(result)\n",
        "# print(r_list)\n",
        "\n",
        "for i in range(10):\n",
        "  cnt = result.count(str(i))\n",
        "  print(cnt)"
      ]
    },
    {
      "cell_type": "code",
      "source": [
        "# 2292\n",
        "\n",
        "# 시간초과 => 리스트 부분! \n",
        "\n",
        "N = int(input())\n",
        "\n",
        "i= 1\n",
        "cnt = 2 \n",
        "\n",
        "if N == 1 :\n",
        "  print(1)\n",
        "else :\n",
        "  while N >= cnt :\n",
        "    # linei = [i for i in range(first,first+6*i)]\n",
        "    cnt = cnt + 6*i\n",
        "    i += 1 \n",
        "  print(i)\n",
        "    # print(linei)\n",
        "\n",
        "\n",
        "# line0 = 1 \n",
        "# line1 = [2,3,4,5,6,7] 6 \n",
        "# line2 = [8~19] 12 \n",
        "# line3 = [20~37] 18 \n",
        "# line4 = [38~61] 24 \n",
        "\n",
        "\n"
      ],
      "metadata": {
        "colab": {
          "base_uri": "https://localhost:8080/"
        },
        "id": "54QRyHDJrWEe",
        "outputId": "7df60650-68cf-4852-ee50-f0345768f26c"
      },
      "execution_count": null,
      "outputs": [
        {
          "output_type": "stream",
          "name": "stdout",
          "text": [
            "1\n",
            "1\n"
          ]
        }
      ]
    },
    {
      "cell_type": "code",
      "source": [
        "# 2775\n",
        "\n",
        "T = int(input())\n",
        "\n",
        "people = []\n",
        "for i in range(T):\n",
        "  k = int(input())\n",
        "  n = int(input())\n",
        "\n",
        "\n",
        "  if k == 0 :\n",
        "    people_num = n\n",
        "    people.append(people_num)\n",
        "  else :\n",
        "    level = 0\n",
        "    people_num  = list(range(1,n+1))\n",
        "    while level<k : \n",
        "      num = 0\n",
        "      for i in range(len(people_num)):\n",
        "        num += people_num[i]\n",
        "        people_num[i] = num \n",
        "      # print(people_num)\n",
        "      level += 1\n",
        "    \n",
        "    people.append(people_num[len(people_num)-1])\n",
        "\n",
        "for i in range(T):\n",
        "  print(people[i])\n",
        "    \n",
        "  \n",
        "\n"
      ],
      "metadata": {
        "id": "GGb9D92u9Pat",
        "colab": {
          "base_uri": "https://localhost:8080/"
        },
        "outputId": "f498f1c5-3668-4a50-e1e3-6a07866268ac"
      },
      "execution_count": 12,
      "outputs": [
        {
          "output_type": "stream",
          "name": "stdout",
          "text": [
            "1\n",
            "0\n",
            "5\n",
            "5\n"
          ]
        }
      ]
    },
    {
      "cell_type": "code",
      "source": [
        "# 2920\n",
        "\n",
        "play_ = \"\".join(input().split())\n",
        "\n",
        "# print(play_)\n",
        "\n",
        "if play_[:] == \"12345678\" :\n",
        "  print(\"ascending\")\n",
        "\n",
        "elif play_[:] == \"87654321\" :\n",
        "  print(\"descending\")\n",
        "\n",
        "else :\n",
        "  print(\"mixed\")"
      ],
      "metadata": {
        "colab": {
          "base_uri": "https://localhost:8080/"
        },
        "id": "NVGrjfeyc9o6",
        "outputId": "cf9426ca-6192-47ac-cd4b-f068ed458d3e"
      },
      "execution_count": 3,
      "outputs": [
        {
          "output_type": "stream",
          "name": "stdout",
          "text": [
            "8 1 7 2 6 3 5 4\n",
            "81726354\n",
            "mixed\n"
          ]
        }
      ]
    },
    {
      "cell_type": "code",
      "source": [
        "num_list = []\n",
        "\n",
        "for i in range(10):\n",
        "  num =int(input())\n",
        "  num = num%42\n",
        "  if num not in num_list:\n",
        "    num_list.append(num)\n",
        "\n",
        "print(len(num_list))"
      ],
      "metadata": {
        "colab": {
          "base_uri": "https://localhost:8080/"
        },
        "id": "Ta5h45H6c9yb",
        "outputId": "04c24841-59dc-446a-9e7a-cbcbeb5274dd"
      },
      "execution_count": 7,
      "outputs": [
        {
          "output_type": "stream",
          "name": "stdout",
          "text": [
            "39\n",
            "40\n",
            "41\n",
            "42\n",
            "43\n",
            "44\n",
            "82\n",
            "83\n",
            "84\n",
            "85\n",
            "6\n"
          ]
        }
      ]
    }
  ]
}