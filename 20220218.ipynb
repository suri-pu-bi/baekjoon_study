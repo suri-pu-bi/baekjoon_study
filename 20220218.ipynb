{
  "nbformat": 4,
  "nbformat_minor": 0,
  "metadata": {
    "colab": {
      "name": "20220218.ipynb",
      "provenance": [],
      "authorship_tag": "ABX9TyOUbRiJ4DmRDbJXlT+o/zNj",
      "include_colab_link": true
    },
    "kernelspec": {
      "name": "python3",
      "display_name": "Python 3"
    },
    "language_info": {
      "name": "python"
    }
  },
  "cells": [
    {
      "cell_type": "markdown",
      "metadata": {
        "id": "view-in-github",
        "colab_type": "text"
      },
      "source": [
        "<a href=\"https://colab.research.google.com/github/suri-pu-bi/baekjoon_study/blob/main/20220218.ipynb\" target=\"_parent\"><img src=\"https://colab.research.google.com/assets/colab-badge.svg\" alt=\"Open In Colab\"/></a>"
      ]
    },
    {
      "cell_type": "code",
      "execution_count": 6,
      "metadata": {
        "colab": {
          "base_uri": "https://localhost:8080/"
        },
        "id": "sMj2aNDyw-Ke",
        "outputId": "0de0beb2-922c-44c3-f132-d5a4a98be874"
      },
      "outputs": [
        {
          "output_type": "stream",
          "name": "stdout",
          "text": [
            "150\n",
            "266\n",
            "427\n",
            "3\n",
            "1\n",
            "0\n",
            "2\n",
            "0\n",
            "0\n",
            "0\n",
            "2\n",
            "0\n",
            "0\n"
          ]
        }
      ],
      "source": [
        "# 2577\n",
        "\n",
        "A = input()\n",
        "B = input()\n",
        "C = input()\n",
        "\n",
        "result = str(int(A) * int(B) * int(C))\n",
        "\n",
        "# r_list = list(result)\n",
        "# print(r_list)\n",
        "\n",
        "for i in range(10):\n",
        "  cnt = result.count(str(i))\n",
        "  print(cnt)"
      ]
    },
    {
      "cell_type": "code",
      "source": [
        "# 2292\n",
        "\n",
        "# 시간초과 => 리스트 부분! \n",
        "\n",
        "N = int(input())\n",
        "\n",
        "i= 1\n",
        "cnt = 2 \n",
        "\n",
        "if N == 1 :\n",
        "  print(1)\n",
        "else :\n",
        "  while N >= cnt :\n",
        "    # linei = [i for i in range(first,first+6*i)]\n",
        "    cnt = cnt + 6*i\n",
        "    i += 1 \n",
        "  print(i)\n",
        "    # print(linei)\n",
        "\n",
        "\n",
        "# line0 = 1 \n",
        "# line1 = [2,3,4,5,6,7] 6 \n",
        "# line2 = [8~19] 12 \n",
        "# line3 = [20~37] 18 \n",
        "# line4 = [38~61] 24 \n",
        "\n",
        "\n"
      ],
      "metadata": {
        "colab": {
          "base_uri": "https://localhost:8080/"
        },
        "id": "54QRyHDJrWEe",
        "outputId": "7df60650-68cf-4852-ee50-f0345768f26c"
      },
      "execution_count": 25,
      "outputs": [
        {
          "output_type": "stream",
          "name": "stdout",
          "text": [
            "1\n",
            "1\n"
          ]
        }
      ]
    },
    {
      "cell_type": "code",
      "source": [
        "# 2775\n",
        "\n",
        "T = int(input())\n",
        "level = 0\n",
        "\n",
        "for i in range(T):\n",
        "  k = int(input())\n",
        "  n = int(input())\n",
        "\n",
        "if k == 0 :\n",
        "  people_num = n \n",
        "else :\n",
        "   while level<k :  \n",
        "     people_num = n(n+1)/2\n",
        "     level += 1   \n",
        "    \n",
        "\n",
        "  k =1 : people_num = n(n+1)/2\n",
        "  k= 2 : people_num = "
      ],
      "metadata": {
        "id": "GGb9D92u9Pat"
      },
      "execution_count": null,
      "outputs": []
    }
  ]
}