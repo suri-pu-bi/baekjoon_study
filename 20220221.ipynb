{
  "nbformat": 4,
  "nbformat_minor": 0,
  "metadata": {
    "colab": {
      "name": "20220221.ipynb",
      "provenance": [],
      "authorship_tag": "ABX9TyMPp1g2dWF2pcQ80QRz8912",
      "include_colab_link": true
    },
    "kernelspec": {
      "name": "python3",
      "display_name": "Python 3"
    },
    "language_info": {
      "name": "python"
    }
  },
  "cells": [
    {
      "cell_type": "markdown",
      "metadata": {
        "id": "view-in-github",
        "colab_type": "text"
      },
      "source": [
        "<a href=\"https://colab.research.google.com/github/suri-pu-bi/baekjoon_study/blob/main/20220221.ipynb\" target=\"_parent\"><img src=\"https://colab.research.google.com/assets/colab-badge.svg\" alt=\"Open In Colab\"/></a>"
      ]
    },
    {
      "cell_type": "code",
      "execution_count": null,
      "metadata": {
        "colab": {
          "base_uri": "https://localhost:8080/"
        },
        "id": "t90kyfJKLlAz",
        "outputId": "4133f9e3-bf59-46c5-f335-02e0822407f9"
      },
      "outputs": [
        {
          "output_type": "stream",
          "name": "stdout",
          "text": [
            "2\n",
            "powdered Toast Man\n",
            "skeletor\n",
            "Powdered Toast Man\n",
            "Skeletor\n"
          ]
        }
      ],
      "source": [
        "# 4458\n",
        "\n",
        "N = int(input())\n",
        "\n",
        "sen_ = []\n",
        "for i in range(N):\n",
        "  sen = input()\n",
        "  # if sen[0].islower() :\n",
        "    # str이 소문자인지 아닌지 검사\n",
        "  sen = sen[0].upper() + sen[1:] \n",
        "    # sen.upper()만 한다고 해서 sen이 바뀌는 것이 아님 \n",
        "    # 반환값이 있으므로 변수에 저장해야해서 출력해야함 \n",
        "    # python 문자열은 변경할 수 없음 sen[0] = sen[0].upper()로 바꿀 수 없음 \n",
        "    # -> 그러고 싶으면 list로 고쳐야함\n",
        "  # elif sen[0].isupper() :\n",
        "    # pass\n",
        "  \n",
        "  sen_.append(sen)\n",
        "  \n",
        "for i in range(N):\n",
        "  print(sen_[i])\n",
        "\n"
      ]
    },
    {
      "cell_type": "code",
      "source": [
        "# 3053\n",
        "# 유클리드 기하학에서 두 지점의 거리는 좌표평면상의 최단거리\n",
        "# 택시 기하학은 두 지점의 거리는 가로 세로로만 이동한 거리의 총합 \n",
        "# (대각선X 세로 가로 칸수로 따지면 이해쉬움)\n",
        "# 택시 기하학에서 원은 마름모꼴 \n",
        "# 반지름의 길이에 따라 가로 2칸 세로 1칸 이런식으로 도형을 만들면 마름모꼴이 된다\n",
        "# 택시 기하학에서의 원의 넓이 2*r*r\n",
        "\n",
        "import math\n",
        "\n",
        "r = int(input())\n",
        "u_circle = math.pi * r * r\n",
        "t_circle = 2 * r * r\n",
        "print(\"{:.6f}\".format(u_circle))\n",
        "print(\"{:.6f}\".format(t_circle))\n"
      ],
      "metadata": {
        "colab": {
          "base_uri": "https://localhost:8080/"
        },
        "id": "WziLoehQajp9",
        "outputId": "ea01e7ae-300f-489f-aaac-30a209582168"
      },
      "execution_count": 5,
      "outputs": [
        {
          "output_type": "stream",
          "name": "stdout",
          "text": [
            "42\n",
            "5541.769441\n",
            "3528.000000\n"
          ]
        }
      ]
    },
    {
      "cell_type": "code",
      "source": [
        "# 1408\n",
        "\n",
        "now_time = input().split(\":\")\n",
        "start_time = input().split(\":\")\n",
        "if int(now_time[0]) < int(start_time[0]):\n",
        "  if start_time[2] == \"00\":\n",
        "    s = 60 - int(now_time[2])\n",
        "    if start_time[1] == \"00\":\n",
        "      m = 59 - int(now_time[1])\n",
        "      h = int(start_time[0])-1-int(now_time[0])\n",
        "    elif int(now_time[1]) >= int(start_time[1]):\n",
        "      m = 59 - int(now_time[1]) + int(start_time[1])\n",
        "      h = int(start_time[0])-1-int(now_time[0])\n",
        "    else \n",
        "  # if now_time[1] < start_time[1]:\n",
        "  #   if now_time[2] < start_time[2]:\n",
        "  #     print(start_time[0] - now_time[0], start_time[0] - now_time[0], start_time[0] - now_time[0], sep = \":\"\n",
        "  else :\n",
        "    pass \n",
        "  start_time[0] - now_time[0] - 1 \n",
        "elif now_time[0] > start_time[0]:\n",
        "  pass\n",
        "\n",
        "else :\n",
        "  \n",
        "\n",
        "\n"
      ],
      "metadata": {
        "id": "DeqmuCXqejTT"
      },
      "execution_count": null,
      "outputs": []
    },
    {
      "cell_type": "code",
      "source": [
        ""
      ],
      "metadata": {
        "id": "vHxljxlcejFY"
      },
      "execution_count": null,
      "outputs": []
    },
    {
      "cell_type": "code",
      "source": [
        ""
      ],
      "metadata": {
        "id": "7UFHY3Efei-y"
      },
      "execution_count": null,
      "outputs": []
    }
  ]
}