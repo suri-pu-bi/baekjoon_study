{
  "nbformat": 4,
  "nbformat_minor": 0,
  "metadata": {
    "colab": {
      "name": "20220221.ipynb의 사본",
      "provenance": [],
      "authorship_tag": "ABX9TyNknA9NdlU2AXFvypgTNwb6",
      "include_colab_link": true
    },
    "kernelspec": {
      "name": "python3",
      "display_name": "Python 3"
    },
    "language_info": {
      "name": "python"
    }
  },
  "cells": [
    {
      "cell_type": "markdown",
      "metadata": {
        "id": "view-in-github",
        "colab_type": "text"
      },
      "source": [
        "<a href=\"https://colab.research.google.com/github/suri-pu-bi/baekjoon_study/blob/main/20220221_ipynb%EC%9D%98_%EC%82%AC%EB%B3%B8.ipynb\" target=\"_parent\"><img src=\"https://colab.research.google.com/assets/colab-badge.svg\" alt=\"Open In Colab\"/></a>"
      ]
    },
    {
      "cell_type": "code",
      "execution_count": 1,
      "metadata": {
        "colab": {
          "base_uri": "https://localhost:8080/"
        },
        "id": "t90kyfJKLlAz",
        "outputId": "4133f9e3-bf59-46c5-f335-02e0822407f9"
      },
      "outputs": [
        {
          "output_type": "stream",
          "name": "stdout",
          "text": [
            "2\n",
            "powdered Toast Man\n",
            "skeletor\n",
            "Powdered Toast Man\n",
            "Skeletor\n"
          ]
        }
      ],
      "source": [
        "# 4458\n",
        "\n",
        "N = int(input())\n",
        "\n",
        "sen_ = []\n",
        "for i in range(N):\n",
        "  sen = input()\n",
        "  # if sen[0].islower() :\n",
        "    # str이 소문자인지 아닌지 검사\n",
        "  sen = sen[0].upper() + sen[1:] \n",
        "    # sen.upper()만 한다고 해서 sen이 바뀌는 것이 아님 \n",
        "    # 반환값이 있으므로 변수에 저장해야해서 출력해야함 \n",
        "    # python 문자열은 변경할 수 없음 sen[0] = sen[0].upper()로 바꿀 수 없음 \n",
        "    # -> 그러고 싶으면 list로 고쳐야함\n",
        "  # elif sen[0].isupper() :\n",
        "    # pass\n",
        "  \n",
        "  sen_.append(sen)\n",
        "  \n",
        "for i in range(N):\n",
        "  print(sen_[i])\n",
        "\n"
      ]
    }
  ]
}