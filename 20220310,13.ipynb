{
  "nbformat": 4,
  "nbformat_minor": 0,
  "metadata": {
    "colab": {
      "name": "20220310,13.ipynb",
      "provenance": [],
      "authorship_tag": "ABX9TyP/Nvjzz6SmGt/83nCVS71X",
      "include_colab_link": true
    },
    "kernelspec": {
      "name": "python3",
      "display_name": "Python 3"
    },
    "language_info": {
      "name": "python"
    }
  },
  "cells": [
    {
      "cell_type": "markdown",
      "metadata": {
        "id": "view-in-github",
        "colab_type": "text"
      },
      "source": [
        "<a href=\"https://colab.research.google.com/github/suri-pu-bi/baekjoon_study/blob/main/20220310%2C13.ipynb\" target=\"_parent\"><img src=\"https://colab.research.google.com/assets/colab-badge.svg\" alt=\"Open In Colab\"/></a>"
      ]
    },
    {
      "cell_type": "code",
      "execution_count": null,
      "metadata": {
        "colab": {
          "base_uri": "https://localhost:8080/"
        },
        "id": "cF_GVfmMPa2z",
        "outputId": "2e2b33f0-4e72-4a19-cc06-4cea16760583"
      },
      "outputs": [
        {
          "output_type": "stream",
          "name": "stdout",
          "text": [
            "10 500\n",
            "93 181 245 214 315 36 185 138 216 295\n",
            "497\n"
          ]
        }
      ],
      "source": [
        "# 2798 블랙잭\n",
        "\n",
        "import itertools\n",
        "# 조합, 순열\n",
        "\n",
        "N, M = map(int,input().split())\n",
        "cards = list(map(int,input().split()))\n",
        "cards3 = itertools.combinations(cards,3)\n",
        "\n",
        "sum_ = []\n",
        "for card in cards3:\n",
        "  card = list(card)\n",
        "  if sum(card)<= M :\n",
        "    sum_.append(sum(card))\n",
        "\n",
        "print(max(sum_))\n"
      ]
    },
    {
      "cell_type": "code",
      "source": [
        "# 3009 네 번째 점\n",
        "\n",
        "x_ = []\n",
        "y_ = []\n",
        "\n",
        "for i in range(3):\n",
        "  x, y = map(int,input().split())\n",
        "  x_.append(x)\n",
        "  y_.append(y)\n",
        "\n",
        "\n",
        "for i in range(3):\n",
        "  cntx = x_.count(x_[i])\n",
        "  if cntx == 1:\n",
        "    x = x_[i]\n",
        "  cnty = y_.count(y_[i])\n",
        "  if cnty == 1:\n",
        "    y = y_[i]\n",
        "\n",
        "print(x,y)\n",
        "\n",
        " \n"
      ],
      "metadata": {
        "colab": {
          "base_uri": "https://localhost:8080/"
        },
        "id": "Yp4pOE3BlfEu",
        "outputId": "b60dfbd5-bbba-4a29-d5e7-e607db97acaa"
      },
      "execution_count": null,
      "outputs": [
        {
          "output_type": "stream",
          "name": "stdout",
          "text": [
            "30 20\n",
            "10 10\n",
            "10 20\n",
            "30 10\n"
          ]
        }
      ]
    },
    {
      "cell_type": "code",
      "source": [
        "# 14656\n",
        "N = int(input())\n",
        "stu_num = list(map(int,input().split()))\n",
        "right_num = list(range(1,N+1))\n",
        "\n",
        "cnt = 0\n",
        "for i in range(N):\n",
        "  if stu_num[i] != right_num[i]:\n",
        "    cnt += 1\n",
        "\n",
        "print(cnt)\n"
      ],
      "metadata": {
        "colab": {
          "base_uri": "https://localhost:8080/"
        },
        "id": "5ilFZu0fYMjj",
        "outputId": "50c2d509-08b9-4c05-db18-d86e5ff6513b"
      },
      "execution_count": 5,
      "outputs": [
        {
          "output_type": "stream",
          "name": "stdout",
          "text": [
            "5\n",
            "3 2 5 4 1\n",
            "3\n"
          ]
        }
      ]
    },
    {
      "cell_type": "code",
      "source": [
        "# 5622\n",
        "\n",
        "a = 65\n",
        "alphabet = []\n",
        "words = input()\n",
        "for i in range(8):\n",
        "  if a == 80 or a == 87:\n",
        "    alphabet.append(list(map(chr,range(a,a+4))))\n",
        "    a = a+4\n",
        "    # print(a, alphabet)\n",
        "  else:\n",
        "    alphabet.append(list(map(chr,range(a,a+3))))\n",
        "    a = a+3\n",
        "    # print(a, alphabet)\n",
        "\n",
        "# print(alphabet)\n",
        "# print(alphabet[0])\n",
        "## dial = ['ABC','DEF', 'GHI', 'JKL', 'MNO','PQRS', 'TUV','WXYZ'] -> code easy\n",
        "\n",
        "time = 0\n",
        "for i in range(len(words)):\n",
        "  for j in range(8):\n",
        "    if words[i] in alphabet[j]:\n",
        "      time = time + 3 + j\n",
        "      \n",
        "\n",
        "print(time)\n",
        "\n"
      ],
      "metadata": {
        "colab": {
          "base_uri": "https://localhost:8080/"
        },
        "id": "YBKEt0mBYMsU",
        "outputId": "75f960b4-ac7a-4b06-aabe-dcc88ae8a042"
      },
      "execution_count": 28,
      "outputs": [
        {
          "output_type": "stream",
          "name": "stdout",
          "text": [
            "UNUCIC\n",
            "36\n"
          ]
        }
      ]
    },
    {
      "cell_type": "code",
      "source": [
        "# 2965\n",
        "cag1, cag2, cag3 = map(int,input().split())\n",
        "\n",
        "cag1_move = cag3 - cag2 -1\n",
        "cag3_move = cag2 - cag1 -1\n",
        "\n",
        "if cag1_move <= cag3_move :\n",
        "  print(cag3_move)\n",
        "else :\n",
        "  print(cag1_move)"
      ],
      "metadata": {
        "colab": {
          "base_uri": "https://localhost:8080/"
        },
        "id": "nuFUf_xhYMz2",
        "outputId": "5adff7f6-6b83-4319-f4a9-a67e97f243d6"
      },
      "execution_count": 30,
      "outputs": [
        {
          "output_type": "stream",
          "name": "stdout",
          "text": [
            "3 5 9\n",
            "3\n"
          ]
        }
      ]
    }
  ]
}