{
  "nbformat": 4,
  "nbformat_minor": 0,
  "metadata": {
    "colab": {
      "name": "20220310.ipynb",
      "provenance": [],
      "authorship_tag": "ABX9TyONqVFn0X+DbUMX/Uhytm3y",
      "include_colab_link": true
    },
    "kernelspec": {
      "name": "python3",
      "display_name": "Python 3"
    },
    "language_info": {
      "name": "python"
    }
  },
  "cells": [
    {
      "cell_type": "markdown",
      "metadata": {
        "id": "view-in-github",
        "colab_type": "text"
      },
      "source": [
        "<a href=\"https://colab.research.google.com/github/suri-pu-bi/baekjoon_study/blob/main/20220310.ipynb\" target=\"_parent\"><img src=\"https://colab.research.google.com/assets/colab-badge.svg\" alt=\"Open In Colab\"/></a>"
      ]
    },
    {
      "cell_type": "code",
      "execution_count": 6,
      "metadata": {
        "colab": {
          "base_uri": "https://localhost:8080/"
        },
        "id": "cF_GVfmMPa2z",
        "outputId": "2e2b33f0-4e72-4a19-cc06-4cea16760583"
      },
      "outputs": [
        {
          "output_type": "stream",
          "name": "stdout",
          "text": [
            "10 500\n",
            "93 181 245 214 315 36 185 138 216 295\n",
            "497\n"
          ]
        }
      ],
      "source": [
        "# 2798 블랙잭\n",
        "\n",
        "import itertools\n",
        "# 조합, 순열\n",
        "\n",
        "N, M = map(int,input().split())\n",
        "cards = list(map(int,input().split()))\n",
        "cards3 = itertools.combinations(cards,3)\n",
        "\n",
        "sum_ = []\n",
        "for card in cards3:\n",
        "  card = list(card)\n",
        "  if sum(card)<= M :\n",
        "    sum_.append(sum(card))\n",
        "\n",
        "print(max(sum_))\n"
      ]
    },
    {
      "cell_type": "code",
      "source": [
        "# 3009 네 번째 점\n",
        "\n",
        "x_ = []\n",
        "y_ = []\n",
        "\n",
        "for i in range(3):\n",
        "  x, y = map(int,input().split())\n",
        "  x_.append(x)\n",
        "  y_.append(y)\n",
        "\n",
        "\n",
        "for i in range(3):\n",
        "  cntx = x_.count(x_[i])\n",
        "  if cntx == 1:\n",
        "    x = x_[i]\n",
        "  cnty = y_.count(y_[i])\n",
        "  if cnty == 1:\n",
        "    y = y_[i]\n",
        "\n",
        "print(x,y)\n",
        "\n",
        " \n"
      ],
      "metadata": {
        "colab": {
          "base_uri": "https://localhost:8080/"
        },
        "id": "Yp4pOE3BlfEu",
        "outputId": "b60dfbd5-bbba-4a29-d5e7-e607db97acaa"
      },
      "execution_count": 19,
      "outputs": [
        {
          "output_type": "stream",
          "name": "stdout",
          "text": [
            "30 20\n",
            "10 10\n",
            "10 20\n",
            "30 10\n"
          ]
        }
      ]
    }
  ]
}