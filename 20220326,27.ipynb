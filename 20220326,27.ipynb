{
  "nbformat": 4,
  "nbformat_minor": 0,
  "metadata": {
    "colab": {
      "name": "20220326,27ipynb",
      "provenance": [],
      "authorship_tag": "ABX9TyOFTDtjzU92c+N089BLZ0hr",
      "include_colab_link": true
    },
    "kernelspec": {
      "name": "python3",
      "display_name": "Python 3"
    },
    "language_info": {
      "name": "python"
    }
  },
  "cells": [
    {
      "cell_type": "markdown",
      "metadata": {
        "id": "view-in-github",
        "colab_type": "text"
      },
      "source": [
        "<a href=\"https://colab.research.google.com/github/suri-pu-bi/baekjoon_study/blob/main/20220326%2C27.ipynb\" target=\"_parent\"><img src=\"https://colab.research.google.com/assets/colab-badge.svg\" alt=\"Open In Colab\"/></a>"
      ]
    },
    {
      "cell_type": "code",
      "source": [
        "# 5032 탄산음료 (Bronze 2)\n",
        "e,f,c = map(int, input().split())\n",
        "\n",
        "cnt = 0\n",
        "a = e+f\n",
        "b = 0\n",
        "while ((a+b)//c != 0):\n",
        "  num1 = (a+b)//c\n",
        "  num2 = (a+b)%c\n",
        "  a = num1\n",
        "  b = num2\n",
        "  cnt += a\n",
        "  print(a,b,cnt)\n",
        "print(cnt)"
      ],
      "metadata": {
        "id": "JLqYV07mvwqB"
      },
      "execution_count": null,
      "outputs": []
    },
    {
      "cell_type": "code",
      "source": [
        "# 1157 단어공부 (Bronze 1)\n",
        "\n",
        "word = input()\n",
        "word = word.upper()\n",
        "words = {}\n",
        "for i in word:\n",
        "  if i not in words:\n",
        "    cnt = word.count(i)\n",
        "    words[i] = cnt\n",
        "\n",
        "# print(words)\n",
        "\n",
        "# max(words): words의 key값 중 최댓값 출력\n",
        "# key = words.get: value의 최댓값을 기준으로 하여 words의 key를 출력 \n",
        "# 한줄 for문/if문 사용시 빈 리스트 만들어서 추가하는 작업 불필요\n",
        "\n",
        "max_word = [k for k,v in words.items() if max(words.values()) == v]\n",
        "if len(max_word) >= 2:\n",
        "  print(\"?\")\n",
        "else :\n",
        "  print(max_word[0])\n",
        "\n"
      ],
      "metadata": {
        "colab": {
          "base_uri": "https://localhost:8080/"
        },
        "id": "gnOkobFUQ9j4",
        "outputId": "25df2848-be90-4bb9-d875-a930f4b1c721"
      },
      "execution_count": 9,
      "outputs": [
        {
          "output_type": "stream",
          "name": "stdout",
          "text": [
            "abc\n",
            "{'A': 1, 'B': 1, 'C': 1}\n",
            "?\n"
          ]
        }
      ]
    },
    {
      "cell_type": "code",
      "source": [
        "# 1193 분수찾기 (Bronze 1)\n",
        "# 시간초과\n",
        "\n",
        "x = int(input())\n",
        "\n",
        "up = 1 \n",
        "down = 1\n",
        "line = 0\n",
        "num = 1\n",
        "\n",
        "\n",
        "for i in range(2,x+1):\n",
        "  if line%2 == 0:\n",
        "    if down == 1 and up%2 == 0:\n",
        "      up += 1\n",
        "      num = i\n",
        "      line += 1\n",
        "    else:\n",
        "      up += 1 \n",
        "      down -= 1\n",
        "      num = i\n",
        "\n",
        "  else:\n",
        "      if up == 1 and down%2 != 0:\n",
        "        down += 1\n",
        "        num = i\n",
        "        line += 1\n",
        "      else:    \n",
        "        up -= 1\n",
        "        down += 1\n",
        "        num = i\n",
        "\n",
        "\n",
        "print(str(up)+\"/\"+str(down))\n"
      ],
      "metadata": {
        "colab": {
          "base_uri": "https://localhost:8080/"
        },
        "id": "wKo5PHPRFGQ7",
        "outputId": "accc209b-9397-464b-d362-2f86c446e81a"
      },
      "execution_count": 51,
      "outputs": [
        {
          "output_type": "stream",
          "name": "stdout",
          "text": [
            "14\n",
            "2/4\n"
          ]
        }
      ]
    },
    {
      "cell_type": "code",
      "source": [
        "# 1193 \n",
        "\n",
        "# 1193 분수찾기 (Bronze 1)\n",
        "# 시간초과 해결 -> line별 개수 구하고, 그 개수의 합 구해서 x 번호가 있는 최종 line 구한 후 최종 line에 대하여 홀수 line/짝수 line 나눠서 최종번호까지 up, down 시키기 \n",
        "\n",
        "x = int(input())\n",
        "\n",
        "up = 1 \n",
        "down = 1\n",
        "line = 1\n",
        "cnt = 0\n",
        "\n",
        "while  cnt < x :\n",
        "  cnt += line \n",
        "  line += 1\n",
        "\n",
        "line -= 1\n",
        "cnt -= line\n",
        "\n",
        "# print(cnt, line)\n",
        "\n",
        "if line%2 == 0:\n",
        "  down = line\n",
        "  up = 1\n",
        "  cnt += 1\n",
        "  while (cnt < x):\n",
        "    if cnt == x:\n",
        "      break\n",
        "    up += 1\n",
        "    down -= 1\n",
        "    cnt += 1\n",
        "\n",
        "else:\n",
        "  up = line\n",
        "  down = 1\n",
        "  cnt += 1\n",
        "  while (cnt < x):\n",
        "    if cnt == x:\n",
        "      break\n",
        "    up -= 1\n",
        "    down += 1\n",
        "    cnt += 1\n",
        "\n",
        "\n",
        "print(str(up)+\"/\"+str(down))\n"
      ],
      "metadata": {
        "colab": {
          "base_uri": "https://localhost:8080/"
        },
        "id": "xXJHbOe5Q92q",
        "outputId": "a2ff67a8-0d6b-46c7-b1f5-68a5ec84f809"
      },
      "execution_count": 64,
      "outputs": [
        {
          "output_type": "stream",
          "name": "stdout",
          "text": [
            "14\n",
            "10 5\n",
            "2/4\n"
          ]
        }
      ]
    },
    {
      "cell_type": "code",
      "source": [
        "# 10797\n",
        "\n",
        "day = int(input())\n",
        "cars = list(map(int,input().split()))\n",
        "\n",
        "print(cars.count(day))"
      ],
      "metadata": {
        "colab": {
          "base_uri": "https://localhost:8080/"
        },
        "id": "Er8yEsP41U5T",
        "outputId": "31e2f6aa-b57f-44ad-f58d-f4470bd19dce"
      },
      "execution_count": 66,
      "outputs": [
        {
          "output_type": "stream",
          "name": "stdout",
          "text": [
            "3\n",
            "1 2 3 5 3\n",
            "2\n"
          ]
        }
      ]
    },
    {
      "cell_type": "code",
      "source": [
        "# 5543\n",
        "\n",
        "burger = [int(input()) for i in range(3)]\n",
        "drink = [int(input()) for i in range(2)]\n",
        "\n",
        "set = min(burger) + min(drink) - 50\n",
        "print(set)\n",
        "\n",
        "\n",
        "\n"
      ],
      "metadata": {
        "colab": {
          "base_uri": "https://localhost:8080/"
        },
        "id": "OkyPPhCj1VNZ",
        "outputId": "da10d844-edee-4ec2-99f0-213dff75a17a"
      },
      "execution_count": 68,
      "outputs": [
        {
          "output_type": "stream",
          "name": "stdout",
          "text": [
            "1999\n",
            "1999\n",
            "100\n",
            "189\n",
            "100\n",
            "150\n"
          ]
        }
      ]
    },
    {
      "cell_type": "code",
      "source": [
        "# 5532\n",
        "\n",
        "L,A,B,C,D = [int(input()) for i in range(5)]\n",
        "\n",
        "korean = A//C\n",
        "math = B//D\n",
        "if A%C != 0:\n",
        "  korean += 1\n",
        "if B%D != 0:\n",
        "  math += 1\n",
        "\n",
        "print(L-max(korean,math))\n",
        "\n"
      ],
      "metadata": {
        "colab": {
          "base_uri": "https://localhost:8080/"
        },
        "id": "kID9O5fn1VVI",
        "outputId": "94176d0c-7096-4bd7-ee44-1897c7de822c"
      },
      "execution_count": 71,
      "outputs": [
        {
          "output_type": "stream",
          "name": "stdout",
          "text": [
            "15\n",
            "32\n",
            "48\n",
            "4\n",
            "6\n",
            "7\n"
          ]
        }
      ]
    },
    {
      "cell_type": "code",
      "source": [
        "# 2752\n",
        "\n",
        "words = list(map(int,input().split()))\n",
        "words.sort()\n",
        "for i in words:\n",
        "  print(i,end=\" \")"
      ],
      "metadata": {
        "colab": {
          "base_uri": "https://localhost:8080/"
        },
        "id": "kxiF8fSuCIxU",
        "outputId": "7a94134e-4cda-4475-c9f1-428348471e07"
      },
      "execution_count": 75,
      "outputs": [
        {
          "output_type": "stream",
          "name": "stdout",
          "text": [
            "3 1 2\n",
            "1 2 3 "
          ]
        }
      ]
    },
    {
      "cell_type": "code",
      "source": [
        "# 10039\n",
        "\n",
        "students = [int(input()) for i in range(5)]\n",
        "sum = 0\n",
        "for i in range(5):\n",
        "  if students[i] < 40:\n",
        "    students[i] = 40\n",
        "  sum += students[i]\n",
        "print(int(sum/5))\n"
      ],
      "metadata": {
        "colab": {
          "base_uri": "https://localhost:8080/"
        },
        "id": "5GK5dAU5KLpl",
        "outputId": "c7e5089a-5381-4453-dbb4-af53005643d4"
      },
      "execution_count": 77,
      "outputs": [
        {
          "output_type": "stream",
          "name": "stdout",
          "text": [
            "10\n",
            "65\n",
            "100\n",
            "30\n",
            "95\n",
            "68\n"
          ]
        }
      ]
    },
    {
      "cell_type": "code",
      "source": [
        "# 9498\n",
        "\n",
        "score = int(input())\n",
        "\n",
        "if 90 <=score<= 100:\n",
        "  print(\"A\")\n",
        "elif 80 <=score<=89:\n",
        "  print(\"B\")\n",
        "elif 70<=score<=79:\n",
        "  print(\"C\")\n",
        "elif 60<=score<=69:\n",
        "  print(\"D\")\n",
        "else:\n",
        "  print(\"F\")\n",
        "\n"
      ],
      "metadata": {
        "colab": {
          "base_uri": "https://localhost:8080/"
        },
        "id": "mRE4fReXKMXD",
        "outputId": "a98c6c88-75c0-46cf-9934-7adde24c5527"
      },
      "execution_count": 79,
      "outputs": [
        {
          "output_type": "stream",
          "name": "stdout",
          "text": [
            "100\n",
            "A\n"
          ]
        }
      ]
    },
    {
      "cell_type": "code",
      "source": [
        ""
      ],
      "metadata": {
        "id": "Q9txOQDJNZCg"
      },
      "execution_count": null,
      "outputs": []
    }
  ]
}