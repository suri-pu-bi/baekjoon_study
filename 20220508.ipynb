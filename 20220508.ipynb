{
  "nbformat": 4,
  "nbformat_minor": 0,
  "metadata": {
    "colab": {
      "name": "20220508.ipynb",
      "provenance": [],
      "authorship_tag": "ABX9TyNUOLsrv0iZcmsRM8y7xgwd",
      "include_colab_link": true
    },
    "kernelspec": {
      "name": "python3",
      "display_name": "Python 3"
    },
    "language_info": {
      "name": "python"
    }
  },
  "cells": [
    {
      "cell_type": "markdown",
      "metadata": {
        "id": "view-in-github",
        "colab_type": "text"
      },
      "source": [
        "<a href=\"https://colab.research.google.com/github/suri-pu-bi/baekjoon_study/blob/main/20220508.ipynb\" target=\"_parent\"><img src=\"https://colab.research.google.com/assets/colab-badge.svg\" alt=\"Open In Colab\"/></a>"
      ]
    },
    {
      "cell_type": "code",
      "execution_count": 3,
      "metadata": {
        "colab": {
          "base_uri": "https://localhost:8080/"
        },
        "id": "lTi8CF1elmnT",
        "outputId": "62374b5f-b4d4-4d7a-86f5-bfe5f9b3e163"
      },
      "outputs": [
        {
          "output_type": "stream",
          "name": "stdout",
          "text": [
            "8\n",
            "6\n",
            "5\n",
            "1\n",
            "37\n",
            "30\n",
            "28\n",
            "22\n",
            "36\n",
            "8\n",
            "6\n",
            "5\n",
            "1\n",
            "30\n",
            "28\n",
            "22\n"
          ]
        }
      ],
      "source": [
        "# 3040 (백설공주 Bronze 2)\n",
        "# 파이썬 라이브러리 조합이용\n",
        "from itertools import permutations\n",
        "\n",
        "dwarfs_9 = []\n",
        "for i in range(9):\n",
        "  dwarf = int(input())\n",
        "  dwarfs_9.append(dwarf)\n",
        "\n",
        "dwarfs_7 = list(permutations(dwarfs_9,7))\n",
        "for dwarfs in dwarfs_7:\n",
        "  if sum(dwarfs) == 100:\n",
        "    for i in dwarfs:\n",
        "      print(i)\n",
        "    break\n",
        "\n"
      ]
    },
    {
      "cell_type": "code",
      "source": [
        "# 다른 풀이\n",
        "# 설계) 전체 9개의 합에서 7개의 합이 100이 되도록 두 개씩 9개의 합에서 빼기\n",
        "\n",
        "dwarfs = []\n",
        "\n",
        "for i in range(9):\n",
        "  dwarf = int(input())\n",
        "  dwarfs.append(dwarf)\n",
        "\n",
        "SUM = sum(dwarfs) # 전체 9개의 합\n",
        "\n",
        "for i in range(0,8):\n",
        "  for j in range(i+1,9):\n",
        "    dwarfs_7 = SUM - dwarfs[i] - dwarfs[j]\n",
        "    if dwarfs_7 == 100:\n",
        "      a = i\n",
        "      b = j\n",
        "      break \n",
        "      # break 한번만 하면 for문 한개만 탈출되므로 여기서 del하면 index 오류\n",
        "\n",
        "del dwarfs[b]\n",
        "del dwarfs[a]\n",
        "\n",
        "for dwarf in dwarfs:\n",
        "  print(dwarf)\n",
        "      \n",
        "# for i in range(0,8): #0~8까지 반복\n",
        "#     for j in range(i+1,9):#1~9 2~9 3~9 4 5 6 7 8 9\n",
        "#         # print(dwarfs[i],dwarfs[j])\n",
        "#         dwarfs_7 = SUM - dwarfs[i] - dwarfs[j]\n",
        "#         if dwarfs_7 == 100:\n",
        "#             print(i,j)\n",
        "\n",
        "#             del dwarfs[j]\n",
        "#             del dwarfs[i]\n",
        "#             break\n",
        "#     if len(dwarfs) == 7:\n",
        "#         break\n",
        "    \n",
        "\n",
        "\n",
        "\n"
      ],
      "metadata": {
        "colab": {
          "base_uri": "https://localhost:8080/"
        },
        "id": "iuCCtonYt18V",
        "outputId": "f97b44c3-6e19-4e77-d9ff-7b4daf5e281b"
      },
      "execution_count": 23,
      "outputs": [
        {
          "output_type": "stream",
          "name": "stdout",
          "text": [
            "7\n",
            "8\n",
            "10\n",
            "13\n",
            "15\n",
            "19\n",
            "20\n",
            "23\n",
            "25\n",
            "7\n",
            "8\n",
            "10\n",
            "13\n",
            "19\n",
            "20\n",
            "23\n"
          ]
        }
      ]
    },
    {
      "cell_type": "code",
      "source": [
        "# 1259 (팰린드롬수 Bronze 1) \n",
        "\n",
        "\n",
        "while(True):\n",
        "  num = input()\n",
        "  if int(num) == 0:\n",
        "    break\n",
        "  else:\n",
        "    for i in range(len(num)):\n",
        "      j = len(num)-1-i\n",
        "      if num[i] != num[j]:\n",
        "        print(\"no\")\n",
        "        break\n",
        "      else:\n",
        "        if j==len(num)//2: # 두번 반복 없애기\n",
        "          print(\"yes\")\n",
        "          break\n",
        "\n",
        "        \n",
        "      "
      ],
      "metadata": {
        "colab": {
          "base_uri": "https://localhost:8080/"
        },
        "id": "jnVCubcTt1sw",
        "outputId": "a5675488-a6ab-413d-c916-7452be843b77"
      },
      "execution_count": 27,
      "outputs": [
        {
          "name": "stdout",
          "output_type": "stream",
          "text": [
            "121\n",
            "yes\n",
            "1231\n",
            "no\n",
            "12421\n",
            "yes\n",
            "0\n"
          ]
        }
      ]
    },
    {
      "cell_type": "code",
      "source": [
        "\n",
        "# 1316 (그룹 단어 체커 Silver 5) (조금 어렵게 풀어서 이번주 다른 사람 코드보고 다시 풀기)\n",
        "\n",
        "def checker(word):\n",
        "  flag = True\n",
        "  cnt = 0\n",
        "\n",
        "  if len(word) == 1:\n",
        "    cnt = 1\n",
        "  elif word.count(word[0]) == len(word):\n",
        "    cnt = 1\n",
        "  elif len(word) == len(set(word)):\n",
        "    cnt = 1\n",
        " \n",
        "  elif len(word) != len(set(word)) and word.count(word[0]) != len(word) and len(word) != 1:\n",
        "    words = list(word)\n",
        "    num = 0\n",
        "    while num < len(words):\n",
        "      count = words.count(words[num])\n",
        "      # print(\"))\",count)\n",
        "      if count > 1:\n",
        "        index_list = []\n",
        "        index = num\n",
        "        index_list.append(index)\n",
        "        for j in range(1,count):\n",
        "          index = words.index(words[num],index+1)\n",
        "          index_list.append(index)\n",
        "        # print(index_list)\n",
        "        for k in range(len(index_list)-1):\n",
        "          if index_list[k]+1 != index_list[k+1]:\n",
        "            flag = False\n",
        "            break\n",
        "          else:\n",
        "            flag = True\n",
        "          \n",
        "        num = num+len(index_list)\n",
        "       \n",
        "      \n",
        "      else:\n",
        "        num += 1\n",
        "          \n",
        "   \n",
        "      if flag == False:\n",
        "        break\n",
        "        \n",
        "  \n",
        "  \n",
        "    if flag == True:\n",
        "      cnt = 1\n",
        "  \n",
        "  return cnt\n",
        "\n",
        "      \n",
        "           \n",
        "\n",
        "N = int(input())\n",
        "cnt = 0\n",
        "for i in range(N):\n",
        "  word = input()\n",
        "  cnt += checker(word)\n",
        "   \n",
        "print(cnt)\n",
        "  \n"
      ],
      "metadata": {
        "colab": {
          "base_uri": "https://localhost:8080/"
        },
        "id": "vhcqhVdxI25h",
        "outputId": "5477bf8b-37cb-4adb-da83-70381e6c142a"
      },
      "execution_count": 101,
      "outputs": [
        {
          "output_type": "stream",
          "name": "stdout",
          "text": [
            "6\n",
            "hhdddzfffff\n",
            "dffzzzzzuu\n",
            "d\n",
            "aad\n",
            "ffdd\n",
            "dgabcad\n",
            "5\n"
          ]
        }
      ]
    }
  ]
}