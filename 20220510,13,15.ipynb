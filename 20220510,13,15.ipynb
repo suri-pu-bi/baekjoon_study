{
  "nbformat": 4,
  "nbformat_minor": 0,
  "metadata": {
    "colab": {
      "name": "20220510,13,15.ipynb",
      "provenance": [],
      "collapsed_sections": [],
      "authorship_tag": "ABX9TyNzcDBXPA4Zxyp6wKXIThYp",
      "include_colab_link": true
    },
    "kernelspec": {
      "name": "python3",
      "display_name": "Python 3"
    },
    "language_info": {
      "name": "python"
    }
  },
  "cells": [
    {
      "cell_type": "markdown",
      "metadata": {
        "id": "view-in-github",
        "colab_type": "text"
      },
      "source": [
        "<a href=\"https://colab.research.google.com/github/suri-pu-bi/baekjoon_study/blob/main/20220510%2C13%2C15.ipynb\" target=\"_parent\"><img src=\"https://colab.research.google.com/assets/colab-badge.svg\" alt=\"Open In Colab\"/></a>"
      ]
    },
    {
      "cell_type": "code",
      "execution_count": null,
      "metadata": {
        "colab": {
          "base_uri": "https://localhost:8080/"
        },
        "id": "UikexbQPzp1e",
        "outputId": "1d6f0dee-bb2a-428e-f94f-94a99840f62b"
      },
      "outputs": [
        {
          "output_type": "stream",
          "name": "stdout",
          "text": [
            "5\n",
            "AAAA ABCD\n",
            "Distances: 0 1 2 3 \n",
            "ABCD AAAA\n",
            "Distances: 0 25 24 23 \n",
            "DARK LOKI\n",
            "Distances: 8 14 19 24 \n",
            "STRONG THANOS\n",
            "Distances: 1 14 9 25 1 12 \n",
            "DEADLY ULTIMO\n",
            "Distances: 17 7 19 5 1 16 \n"
          ]
        }
      ],
      "source": [
        "# 5218 (Bronze 2)\n",
        "# 알파벳을 숫자로 만들고 싶을때 아스키코드 이용하기!\n",
        "\n",
        "N = int(input())\n",
        "for i in range(N):\n",
        "  testcase = input().split()\n",
        "  d_list = []\n",
        "  for j in range(len(testcase[0])):\n",
        "    if testcase[0][j] <= testcase[1][j]:\n",
        "      d = (ord(testcase[1][j])-64) - (ord(testcase[0][j])-64)\n",
        "    else:\n",
        "      d= (ord(testcase[1][j])-64+26) - (ord(testcase[0][j])-64)\n",
        "\n",
        "    d_list.append(d)\n",
        "\n",
        "  print(\"Distances:\", end=\" \")\n",
        "  for j in range(len(d_list)):\n",
        "    print(d_list[j], end=\" \")\n",
        "  print()\n",
        "\n",
        "\n",
        "\n"
      ]
    },
    {
      "cell_type": "code",
      "source": [
        "#5597 과제 안내신 분..? (Bronze 2)\n",
        "\n",
        "student_list = []\n",
        "num_list = list(range(1,31))\n",
        "\n",
        "for i in range(28):\n",
        "  n = int(input())\n",
        "  student_list.append(n)\n",
        "\n",
        "student_list.sort()\n",
        "\n",
        "for i in range(28):\n",
        "  if student_list[i] != num_list[i]:\n",
        "    print(num_list[i])\n",
        "    del num_list[i]\n",
        "    if len(num_list) == 28:  \n",
        "      break\n",
        "  \n",
        "if 29 in num_list and len(num_list) == 29:\n",
        "  print(30)\n",
        "\n",
        "elif 30 in num_list  and len(num_list) == 29:\n",
        "  print(29)\n",
        "\n",
        "elif len(num_list) == 30:\n",
        "    print(29)\n",
        "    print(30)\n",
        "\n",
        "# 색다른 방법 접근\n",
        "# data = [0] * 31\n",
        "\n",
        "# for i in range(28) :\n",
        "#   n = int(input())\n",
        "#   data[n] = 1\n",
        "\n",
        "# for i in range(1, 31) :\n",
        "#   if data[i] == 0 :\n",
        "#     print(i)\n"
      ],
      "metadata": {
        "id": "aU-rC59TVpfw",
        "colab": {
          "base_uri": "https://localhost:8080/"
        },
        "outputId": "f08f46e9-8c4a-4cd7-a9d5-a113e58fc1d5"
      },
      "execution_count": null,
      "outputs": [
        {
          "output_type": "stream",
          "name": "stdout",
          "text": [
            "1\n",
            "2\n",
            "3\n",
            "4\n",
            "8\n",
            "6\n",
            "9\n",
            "10\n",
            "11\n",
            "12\n",
            "13\n",
            "14\n",
            "15\n",
            "16\n",
            "17\n",
            "18\n",
            "19\n",
            "20\n",
            "21\n",
            "22\n",
            "23\n",
            "24\n",
            "25\n",
            "26\n",
            "27\n",
            "28\n",
            "30\n",
            "5\n",
            "7\n",
            "29\n"
          ]
        }
      ]
    },
    {
      "cell_type": "code",
      "source": [
        "#1357 뒤집힌 덧셈 (Bronze 1)\n",
        "\n",
        "# 파이썬에서는 문자열 수정 불가\n",
        "\n",
        "def Rev(x):\n",
        "  for i in range(len(x)//2):\n",
        "    temp = x[i]\n",
        "    x[i] = x[len(x)-1-i]\n",
        "    x[len(x)-1-i] = temp\n",
        "    \n",
        "  x = int(\"\".join(x))\n",
        "  return x\n",
        "\n",
        "\n",
        "x,y = input().split()\n",
        "x = Rev(list(x))\n",
        "y= Rev(list(y))\n",
        "# map 함수의 반환 값은 map객체 이기 때문에 해당 자료형을 list 혹은 tuple로 형 변환시켜야함\n",
        "# map(function,순회가능한 객체)\n",
        "z = list(map(str,str(x+y))) \n",
        "print(Rev(z))"
      ],
      "metadata": {
        "colab": {
          "base_uri": "https://localhost:8080/"
        },
        "id": "BTe3wVpMJXBU",
        "outputId": "14207593-b1bc-424f-a517-ff3d5e33c8dd"
      },
      "execution_count": null,
      "outputs": [
        {
          "output_type": "stream",
          "name": "stdout",
          "text": [
            "1000 1\n",
            "2\n",
            "['2']\n",
            "2\n"
          ]
        }
      ]
    },
    {
      "cell_type": "code",
      "source": [
        "# 1924 2007년 (Bronze 1)\n",
        "\n",
        "\n",
        "Day = 0\n",
        "arrList = [31, 28, 31, 30, 31, 30, 31, 31, 30, 31, 30, 31]\n",
        "weekList = [\"SUN\", \"MON\",\"TUE\", \"WED\", \"THU\", \"FRI\", \"SAT\"]\n",
        " \n",
        "x, y = map(int,input().split())\n",
        " \n",
        "for i in range(x-1):\n",
        "    Day = Day + arrList[i]\n",
        "Day = (Day + y) % 7\n",
        " \n",
        "print(weekList[Day])\n",
        " \n",
        "\n",
        "# calendar module 사용\n",
        "# import calendar\n",
        "\n",
        "# arrList = [\"MON\", \"TUE\", \"WED\", \"THU\", \"FRI\", \"SAT\", \"SUN\"]\n",
        "# x, y = map(int,input().split())\n",
        "\n",
        "# Day = calendar.weekday(2007, x, y)\n",
        "# print(arrList[Day])\n",
        "# '\n",
        "\n",
        "\n",
        "\n"
      ],
      "metadata": {
        "id": "NyaYeS-Te7aZ"
      },
      "execution_count": null,
      "outputs": []
    }
  ]
}