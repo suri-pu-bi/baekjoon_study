{
  "nbformat": 4,
  "nbformat_minor": 0,
  "metadata": {
    "colab": {
      "name": "20220510.ipynb",
      "provenance": [],
      "collapsed_sections": [],
      "authorship_tag": "ABX9TyPDZfvaWJOaynq3VgIMrz5z",
      "include_colab_link": true
    },
    "kernelspec": {
      "name": "python3",
      "display_name": "Python 3"
    },
    "language_info": {
      "name": "python"
    }
  },
  "cells": [
    {
      "cell_type": "markdown",
      "metadata": {
        "id": "view-in-github",
        "colab_type": "text"
      },
      "source": [
        "<a href=\"https://colab.research.google.com/github/suri-pu-bi/baekjoon_study/blob/main/20220510.ipynb\" target=\"_parent\"><img src=\"https://colab.research.google.com/assets/colab-badge.svg\" alt=\"Open In Colab\"/></a>"
      ]
    },
    {
      "cell_type": "code",
      "execution_count": 7,
      "metadata": {
        "colab": {
          "base_uri": "https://localhost:8080/"
        },
        "id": "UikexbQPzp1e",
        "outputId": "1d6f0dee-bb2a-428e-f94f-94a99840f62b"
      },
      "outputs": [
        {
          "output_type": "stream",
          "name": "stdout",
          "text": [
            "5\n",
            "AAAA ABCD\n",
            "Distances: 0 1 2 3 \n",
            "ABCD AAAA\n",
            "Distances: 0 25 24 23 \n",
            "DARK LOKI\n",
            "Distances: 8 14 19 24 \n",
            "STRONG THANOS\n",
            "Distances: 1 14 9 25 1 12 \n",
            "DEADLY ULTIMO\n",
            "Distances: 17 7 19 5 1 16 \n"
          ]
        }
      ],
      "source": [
        "# 5218 (Bronze 2)\n",
        "# 알파벳을 숫자로 만들고 싶을때 아스키코드 이용하기!\n",
        "\n",
        "N = int(input())\n",
        "for i in range(N):\n",
        "  testcase = input().split()\n",
        "  d_list = []\n",
        "  for j in range(len(testcase[0])):\n",
        "    if testcase[0][j] <= testcase[1][j]:\n",
        "      d = (ord(testcase[1][j])-64) - (ord(testcase[0][j])-64)\n",
        "    else:\n",
        "      d= (ord(testcase[1][j])-64+26) - (ord(testcase[0][j])-64)\n",
        "\n",
        "    d_list.append(d)\n",
        "\n",
        "  print(\"Distances:\", end=\" \")\n",
        "  for j in range(len(d_list)):\n",
        "    print(d_list[j], end=\" \")\n",
        "  print()\n",
        "\n",
        "\n",
        "\n"
      ]
    }
  ]
}