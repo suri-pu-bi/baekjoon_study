{
  "nbformat": 4,
  "nbformat_minor": 0,
  "metadata": {
    "colab": {
      "name": "6월 마지막 주_ 백준 알고리즘 스터디.ipynb",
      "provenance": [],
      "collapsed_sections": [],
      "authorship_tag": "ABX9TyNdQiSJSPdPh+q045Dll+gi",
      "include_colab_link": true
    },
    "kernelspec": {
      "name": "python3",
      "display_name": "Python 3"
    },
    "language_info": {
      "name": "python"
    }
  },
  "cells": [
    {
      "cell_type": "markdown",
      "metadata": {
        "id": "view-in-github",
        "colab_type": "text"
      },
      "source": [
        "<a href=\"https://colab.research.google.com/github/suri-pu-bi/baekjoon_study/blob/main/6%EC%9B%94_%EB%A7%88%EC%A7%80%EB%A7%89_%EC%A3%BC__%EB%B0%B1%EC%A4%80_%EC%95%8C%EA%B3%A0%EB%A6%AC%EC%A6%98_%EC%8A%A4%ED%84%B0%EB%94%94.ipynb\" target=\"_parent\"><img src=\"https://colab.research.google.com/assets/colab-badge.svg\" alt=\"Open In Colab\"/></a>"
      ]
    },
    {
      "cell_type": "code",
      "execution_count": null,
      "metadata": {
        "colab": {
          "base_uri": "https://localhost:8080/"
        },
        "id": "IpYuBAf-6BFa",
        "outputId": "967bf0ac-e198-49d4-ab2a-dd1ff798d591"
      },
      "outputs": [
        {
          "output_type": "stream",
          "name": "stdout",
          "text": [
            "11\n",
            "3\n"
          ]
        }
      ],
      "source": [
        "# 2839 설탕배달 \n",
        "\n",
        "n = int(input())\n",
        "\n",
        "bag_list = [5,3]\n",
        "count = 0\n",
        "flag = False\n",
        "\n",
        "for bag in bag_list:\n",
        "  count += n//bag\n",
        "  a = n % bag\n",
        "  \n",
        "  if a % 3 == 0 :\n",
        "    n = a\n",
        "    flag = True\n",
        "\n",
        "  else :\n",
        "    while (count != 0 and a % 3 != 0):\n",
        "      count -= 1\n",
        "      a = n- (bag * count)\n",
        "    n = a\n",
        "      \n",
        "  \n",
        "if flag == False:\n",
        "  count = -1\n",
        "\n",
        "    \n",
        "print(count)\n"
      ]
    },
    {
      "cell_type": "code",
      "source": [
        "# 2839 설탕배달 (그리디 알고리즘 완전 써먹기)\n",
        "\n",
        "n = int(input())\n",
        "cnt = 0 \n",
        "while n>=0:\n",
        "  if n % 5 == 0:\n",
        "    cnt += (n // 5)\n",
        "    print(cnt)\n",
        "    break # break문으로 나가면 else절은 실행되지 않는다\n",
        "  n -= 3\n",
        "  cnt += 1\n",
        "\n",
        "else: # while문도 else절 존재 (조건식이 거짓이 판정되어서 while문이 수행되지 않을 때 else절이 수행됨)\n",
        "  print(-1)"
      ],
      "metadata": {
        "id": "yRDRPmWcJ4P5",
        "colab": {
          "base_uri": "https://localhost:8080/"
        },
        "outputId": "1ac5b1a5-c984-4a04-96bf-9d326e215fbc"
      },
      "execution_count": 48,
      "outputs": [
        {
          "output_type": "stream",
          "name": "stdout",
          "text": [
            "11\n",
            "3\n"
          ]
        }
      ]
    },
    {
      "cell_type": "code",
      "source": [
        "# 2606 바이러스 (깊이 우선 탐색 이용/stack 이용)\n",
        "\n",
        "def dfs(graph, start,visited):\n",
        "  \n",
        "  # visited = [] -> 시간 소요 더 많이 됨, visited의 모든 원소 다 돌아야함\n",
        "  stack = [start]\n",
        "  cnt = -1 # 시작하는 정점 1은 카운트 미포함시키기 위해서\n",
        "\n",
        "  while stack: # stack이 비어있지 않으면\n",
        "    cur = stack.pop() # 현재 방문하고 있는 노드\n",
        "    if visited[cur] == 0:\n",
        "    # if cur not in visited: -> 시간 소요 더 많이 됨, visited의 모든 원소 다 돌아야함\n",
        "        # visited.append(cur)\n",
        "      visited[cur] = 1\n",
        "      stack.extend(reversed(graph[cur]))\n",
        "      cnt += 1\n",
        "  return cnt\n",
        "\n",
        "vertex = int(input())\n",
        "edge = int(input())\n",
        "\n",
        "graph = [[] for _ in range(vertex+1)] # 0 ~vertex까지인데, 문제에서는 1부터 시작하므로 vertex+1\n",
        "for _ in range(edge):\n",
        "  x,y = map(int, input().split())\n",
        "  graph[x].append(y)\n",
        "  graph[y].append(x)\n",
        "\n",
        "\n",
        "visited = [0]*(vertex+1)\n",
        "cnt = dfs(graph,1, visited)\n",
        "\n",
        "\n",
        "print(cnt)\n",
        "  \n",
        "\n"
      ],
      "metadata": {
        "colab": {
          "base_uri": "https://localhost:8080/"
        },
        "id": "hE9e6T7JJuko",
        "outputId": "f99b02c4-a901-48b2-8376-1f88bf06bd3e"
      },
      "execution_count": null,
      "outputs": [
        {
          "output_type": "stream",
          "name": "stdout",
          "text": [
            "7\n",
            "6\n",
            "1 2\n",
            "2 3\n",
            "1 5\n",
            "5 2\n",
            "5 6\n",
            "4 7\n",
            "4\n"
          ]
        }
      ]
    },
    {
      "cell_type": "code",
      "source": [
        "# 2606 바이러스 (깊이 우선 탐색 이용/ 재귀 이용)\n",
        "\n",
        "def dfs(graph, start,visited):\n",
        "  global cnt\n",
        "  visited[start] = 1\n",
        "  for i in graph[start]:\n",
        "    if visited[i] == 0:\n",
        "      dfs(graph,i,visited)\n",
        "      cnt += 1\n",
        "  \n",
        "\n",
        "vertex = int(input())\n",
        "edge = int(input())\n",
        "\n",
        "graph = [[] for _ in range(vertex+1)] # 0 ~vertex까지인데, 문제에서는 1부터 시작하므로 vertex+1\n",
        "for _ in range(edge):\n",
        "  x,y = map(int, input().split())\n",
        "  graph[x].append(y)\n",
        "  graph[y].append(x)\n",
        "\n",
        "cnt = 0\n",
        "visited = [0]*(vertex+1)\n",
        "dfs(graph,1, visited)\n",
        "\n",
        "\n",
        "print(cnt)\n",
        "  "
      ],
      "metadata": {
        "colab": {
          "base_uri": "https://localhost:8080/"
        },
        "id": "j6PPt_bRINzt",
        "outputId": "3e63903f-a47c-4e72-9394-3bbc3b5c6041"
      },
      "execution_count": null,
      "outputs": [
        {
          "output_type": "stream",
          "name": "stdout",
          "text": [
            "7\n",
            "6\n",
            "1 2\n",
            "2 3\n",
            "1 5\n",
            "5 2\n",
            "5 6\n",
            "4 7\n",
            "4\n"
          ]
        }
      ]
    },
    {
      "cell_type": "code",
      "source": [
        "# 1302 베스트셀러\n",
        "\n",
        "n = int(input())\n",
        "\n",
        "book_list = []\n",
        "max_cnt = 0\n",
        "\n",
        "for i in range(n):\n",
        "  name = input()\n",
        "  book_list.append(name)\n",
        "\n",
        "book_list.sort()\n",
        "i = 0\n",
        "while i < len(book_list):\n",
        "  cnt = book_list.count(book_list[i])  \n",
        "  if max_cnt < cnt:\n",
        "    max_cnt = cnt\n",
        "    book = book_list[i]\n",
        "  i += cnt\n",
        "  # for문 i+=cnt 해도 index값 안바뀜 => while문으로 고쳐서 해줘야함 (파이썬 특징)\n",
        "  \n",
        "print(book)\n",
        "  \n"
      ],
      "metadata": {
        "id": "Z48Kn7ocTnzT",
        "colab": {
          "base_uri": "https://localhost:8080/"
        },
        "outputId": "10c13e90-cc44-4a05-9271-0ebda985f78b"
      },
      "execution_count": 47,
      "outputs": [
        {
          "output_type": "stream",
          "name": "stdout",
          "text": [
            "9\n",
            "table\n",
            "chair\n",
            "table\n",
            "table\n",
            "lamp\n",
            "door\n",
            "lamp\n",
            "table\n",
            "chair\n",
            "0 chair\n",
            "2 door\n",
            "3 lamp\n",
            "5 table\n",
            "table\n"
          ]
        }
      ]
    }
  ]
}