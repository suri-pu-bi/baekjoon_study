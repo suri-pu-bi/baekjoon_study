{
  "nbformat": 4,
  "nbformat_minor": 0,
  "metadata": {
    "colab": {
      "name": "class_1.ipynb",
      "provenance": [],
      "authorship_tag": "ABX9TyO2zu7yu8pb0D5oNbwP7oXT",
      "include_colab_link": true
    },
    "kernelspec": {
      "name": "python3",
      "display_name": "Python 3"
    },
    "language_info": {
      "name": "python"
    }
  },
  "cells": [
    {
      "cell_type": "markdown",
      "metadata": {
        "id": "view-in-github",
        "colab_type": "text"
      },
      "source": [
        "<a href=\"https://colab.research.google.com/github/suri-pu-bi/baekjoon_study/blob/main/class_1.ipynb\" target=\"_parent\"><img src=\"https://colab.research.google.com/assets/colab-badge.svg\" alt=\"Open In Colab\"/></a>"
      ]
    },
    {
      "cell_type": "code",
      "execution_count": null,
      "metadata": {
        "colab": {
          "base_uri": "https://localhost:8080/"
        },
        "id": "72yQhFL0n0y0",
        "outputId": "efd74c2e-60fc-49d4-fb93-3bf9b7836bd9"
      },
      "outputs": [
        {
          "output_type": "stream",
          "name": "stdout",
          "text": [
            "Hello World1\n",
            "Python Programming\n"
          ]
        }
      ],
      "source": [
        "print(\"Hello World1\")\n",
        "print(\"Python Programming\")"
      ]
    },
    {
      "cell_type": "code",
      "source": [
        "x= int(input())\n",
        "y = int(input())\n",
        "\n",
        "if x>0 and y>0 :\n",
        "  print(1)\n",
        "\n",
        "elif x<0 and y>0 :\n",
        "  print(2)\n",
        "\n",
        "elif x<0 and y<0 :\n",
        "  print(3)\n",
        "\n",
        "else :\n",
        "  print(4)"
      ],
      "metadata": {
        "colab": {
          "base_uri": "https://localhost:8080/"
        },
        "id": "j2fGRnIroOo-",
        "outputId": "54516f0e-5a2b-4f59-cc52-ad9042f94702"
      },
      "execution_count": null,
      "outputs": [
        {
          "output_type": "stream",
          "name": "stdout",
          "text": [
            "5\n",
            "-13\n",
            "4\n"
          ]
        }
      ]
    },
    {
      "cell_type": "code",
      "source": [
        "A,B = map(int,input().split())\n",
        "print(A+B)"
      ],
      "metadata": {
        "colab": {
          "base_uri": "https://localhost:8080/"
        },
        "id": "rqpQbLUDoPC1",
        "outputId": "be14d24f-006d-4353-894c-4746b8cfddbd"
      },
      "execution_count": null,
      "outputs": [
        {
          "output_type": "stream",
          "name": "stdout",
          "text": [
            "2 3\n",
            "5\n"
          ]
        }
      ]
    },
    {
      "cell_type": "code",
      "source": [
        "A, B, C = map(str, input().split(\",\"))\n",
        "print(C,B,A, sep=\"-\")\n",
        "# split(\",\") / , 로 구분 \n",
        "# str로 받아야 01이 나옴"
      ],
      "metadata": {
        "id": "_u7kXZsVoPI1",
        "colab": {
          "base_uri": "https://localhost:8080/"
        },
        "outputId": "925cbf69-3bb0-4dcc-fa2f-a0952b23ed33"
      },
      "execution_count": null,
      "outputs": [
        {
          "output_type": "stream",
          "name": "stdout",
          "text": [
            "2022,01,01\n",
            "01-01-2022\n"
          ]
        }
      ]
    },
    {
      "cell_type": "code",
      "source": [
        "# / 나누기 실수형\n",
        "# // 나머지 정수형\n",
        "\n",
        "x = list(input().split())\n",
        "if len(x)>=5 :\n",
        "  for i in range(5) :\n",
        "    x.pop()\n",
        "  print(x)\n",
        "  # other way) 슬라이싱 방법 "
      ],
      "metadata": {
        "id": "3L2Ksz1ioPLN",
        "colab": {
          "base_uri": "https://localhost:8080/"
        },
        "outputId": "4e899964-0f3b-44ca-cd78-1ba7a90b68af"
      },
      "execution_count": null,
      "outputs": [
        {
          "output_type": "stream",
          "name": "stdout",
          "text": [
            "3 4 3 21 3 56 76 5 3\n",
            "['3', '4', '3', '21']\n"
          ]
        }
      ]
    },
    {
      "cell_type": "code",
      "source": [
        "A, B = map(int, input().split())\n",
        "print(A+B)\n",
        "print(A-B)\n",
        "print(A*B)\n",
        "print(A/B)\n",
        "print(A%B)"
      ],
      "metadata": {
        "id": "-nbYbtTuoPNd",
        "colab": {
          "base_uri": "https://localhost:8080/"
        },
        "outputId": "8b9e7172-7e81-44ef-9d99-601eabd43095"
      },
      "execution_count": null,
      "outputs": [
        {
          "output_type": "stream",
          "name": "stdout",
          "text": [
            "28 3\n",
            "31\n",
            "25\n",
            "84\n",
            "9.333333333333334\n",
            "1\n"
          ]
        }
      ]
    },
    {
      "cell_type": "code",
      "source": [
        "# 변수명.sort(reverse = True) / 내림차순\n",
        "# array = [ i for in range(20) if i % 2 == 1] / for문 다음 if문 조건\n",
        "\n",
        "str1 = list(input()) \n",
        "str2 = list(input())\n",
        "\n",
        "new_str = []\n",
        "\n",
        "for i in range(0,len(str1),2):\n",
        "  new_str.append(str1[i])\n",
        "\n",
        "for i in range(1,len(str2),2):\n",
        "  new_str.append(str2[i])\n",
        "\n",
        "print(\"\".join(new_str)) # join 함수 list -> str\n",
        "\n"
      ],
      "metadata": {
        "id": "UoEl-L4boPPU",
        "colab": {
          "base_uri": "https://localhost:8080/"
        },
        "outputId": "2d9e393b-9713-4bf3-8725-1773516f3b41"
      },
      "execution_count": null,
      "outputs": [
        {
          "output_type": "stream",
          "name": "stdout",
          "text": [
            "Hello\n",
            "Summi\n",
            "Hloum\n"
          ]
        }
      ]
    },
    {
      "cell_type": "code",
      "source": [
        "# 지뢰찾기\n",
        "N = int(input())\n",
        "if (1<=N<1000) :\n",
        "  for i in range(N):\n",
        "    for j in rnage(N):\n",
        "      a = input90"
      ],
      "metadata": {
        "id": "oHI58MLioPRV"
      },
      "execution_count": null,
      "outputs": []
    },
    {
      "cell_type": "code",
      "source": [
        "# 틀림\n",
        "A, B, V = map(int,input().split())\n",
        "if 1<=B<A<=V<=1000000000 :\n",
        "  x = A - B\n",
        "  y = V -B # 정상에 올라갔을 때는 미끄러지지 않음 // 밤에는 올라가지 않고, 낮에 정상에 올라가기만 하면 알고리즘이 끝나야 하므로 맨 마지막 밤에 미끄러지는 것을 뺀 상태로 하루 올라가는 양을 나눠준다  \n",
        "  if y%x == 0 :\n",
        "    days = y//x  \n",
        "  else :\n",
        "    days = y//x + 1\n",
        "  \n",
        "  print(days)\n",
        "\n"
      ],
      "metadata": {
        "id": "kFsIHCpfoPTV",
        "colab": {
          "base_uri": "https://localhost:8080/"
        },
        "outputId": "713e029e-4dbf-4d3c-9bc4-c310882e7bff"
      },
      "execution_count": 29,
      "outputs": [
        {
          "output_type": "stream",
          "name": "stdout",
          "text": [
            "2 1 5\n",
            "4\n"
          ]
        }
      ]
    },
    {
      "cell_type": "code",
      "source": [
        "num_list = []\n",
        "for i in range(7):\n",
        "  a = int(input())\n",
        "  if a<100 and a%2 != 0 :\n",
        "    num_list.append(a)\n",
        "\n",
        "if len(num_list) == 0: # 빈 리스트\n",
        "  print(-1)\n",
        "\n",
        "else :\n",
        "  sum = sum(num_list)\n",
        "  print(sum)\n",
        "\n",
        "  num_list.sort()\n",
        "  print(num_list[0])\n",
        "\n",
        "# othery way) min, max \n",
        "\n",
        "  \n"
      ],
      "metadata": {
        "colab": {
          "base_uri": "https://localhost:8080/"
        },
        "id": "IzEE7-73UwSE",
        "outputId": "50f44168-3c64-4ec0-8ab7-df207f644a94"
      },
      "execution_count": 30,
      "outputs": [
        {
          "output_type": "stream",
          "name": "stdout",
          "text": [
            "12\n",
            "77\n",
            "38\n",
            "41\n",
            "53\n",
            "92\n",
            "85\n",
            "256\n",
            "41\n"
          ]
        }
      ]
    },
    {
      "cell_type": "code",
      "source": [
        ""
      ],
      "metadata": {
        "id": "xDM_rk_lpIX5"
      },
      "execution_count": null,
      "outputs": []
    }
  ]
}