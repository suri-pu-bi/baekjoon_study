{
  "nbformat": 4,
  "nbformat_minor": 0,
  "metadata": {
    "colab": {
      "name": "class_1.ipynb",
      "provenance": [],
      "authorship_tag": "ABX9TyNxSTh2u5yiAu0MQfes3LZq",
      "include_colab_link": true
    },
    "kernelspec": {
      "name": "python3",
      "display_name": "Python 3"
    },
    "language_info": {
      "name": "python"
    }
  },
  "cells": [
    {
      "cell_type": "markdown",
      "metadata": {
        "id": "view-in-github",
        "colab_type": "text"
      },
      "source": [
        "<a href=\"https://colab.research.google.com/github/suri-pu-bi/baekjoon_study/blob/main/class_1.ipynb\" target=\"_parent\"><img src=\"https://colab.research.google.com/assets/colab-badge.svg\" alt=\"Open In Colab\"/></a>"
      ]
    },
    {
      "cell_type": "code",
      "execution_count": null,
      "metadata": {
        "colab": {
          "base_uri": "https://localhost:8080/"
        },
        "id": "72yQhFL0n0y0",
        "outputId": "efd74c2e-60fc-49d4-fb93-3bf9b7836bd9"
      },
      "outputs": [
        {
          "output_type": "stream",
          "name": "stdout",
          "text": [
            "Hello World1\n",
            "Python Programming\n"
          ]
        }
      ],
      "source": [
        "print(\"Hello World1\")\n",
        "print(\"Python Programming\")"
      ]
    },
    {
      "cell_type": "code",
      "source": [
        "x= int(input())\n",
        "y = int(input())\n",
        "\n",
        "if x>0 and y>0 :\n",
        "  print(1)\n",
        "\n",
        "elif x<0 and y>0 :\n",
        "  print(2)\n",
        "\n",
        "elif x<0 and y<0 :\n",
        "  print(3)\n",
        "\n",
        "else :\n",
        "  print(4)"
      ],
      "metadata": {
        "colab": {
          "base_uri": "https://localhost:8080/"
        },
        "id": "j2fGRnIroOo-",
        "outputId": "54516f0e-5a2b-4f59-cc52-ad9042f94702"
      },
      "execution_count": null,
      "outputs": [
        {
          "output_type": "stream",
          "name": "stdout",
          "text": [
            "5\n",
            "-13\n",
            "4\n"
          ]
        }
      ]
    },
    {
      "cell_type": "code",
      "source": [
        "A,B = map(int,input().split())\n",
        "print(A+B)"
      ],
      "metadata": {
        "colab": {
          "base_uri": "https://localhost:8080/"
        },
        "id": "rqpQbLUDoPC1",
        "outputId": "be14d24f-006d-4353-894c-4746b8cfddbd"
      },
      "execution_count": null,
      "outputs": [
        {
          "output_type": "stream",
          "name": "stdout",
          "text": [
            "2 3\n",
            "5\n"
          ]
        }
      ]
    },
    {
      "cell_type": "code",
      "source": [
        "A, B, C = map(str, input().split(\",\"))\n",
        "print(C,B,A, sep=\"-\")\n",
        "# split(\",\") / , 로 구분 \n",
        "# str로 받아야 01이 나옴"
      ],
      "metadata": {
        "id": "_u7kXZsVoPI1",
        "colab": {
          "base_uri": "https://localhost:8080/"
        },
        "outputId": "925cbf69-3bb0-4dcc-fa2f-a0952b23ed33"
      },
      "execution_count": 8,
      "outputs": [
        {
          "output_type": "stream",
          "name": "stdout",
          "text": [
            "2022,01,01\n",
            "01-01-2022\n"
          ]
        }
      ]
    },
    {
      "cell_type": "code",
      "source": [
        ""
      ],
      "metadata": {
        "id": "3L2Ksz1ioPLN"
      },
      "execution_count": null,
      "outputs": []
    },
    {
      "cell_type": "code",
      "source": [
        ""
      ],
      "metadata": {
        "id": "-nbYbtTuoPNd"
      },
      "execution_count": null,
      "outputs": []
    },
    {
      "cell_type": "code",
      "source": [
        ""
      ],
      "metadata": {
        "id": "UoEl-L4boPPU"
      },
      "execution_count": null,
      "outputs": []
    },
    {
      "cell_type": "code",
      "source": [
        ""
      ],
      "metadata": {
        "id": "oHI58MLioPRV"
      },
      "execution_count": null,
      "outputs": []
    },
    {
      "cell_type": "code",
      "source": [
        ""
      ],
      "metadata": {
        "id": "kFsIHCpfoPTV"
      },
      "execution_count": null,
      "outputs": []
    }
  ]
}