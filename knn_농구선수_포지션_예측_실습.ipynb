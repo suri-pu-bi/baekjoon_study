{
  "cells": [
    {
      "cell_type": "markdown",
      "metadata": {
        "id": "view-in-github",
        "colab_type": "text"
      },
      "source": [
        "<a href=\"https://colab.research.google.com/github/suri-pu-bi/baekjoon_study/blob/main/knn_%EB%86%8D%EA%B5%AC%EC%84%A0%EC%88%98_%ED%8F%AC%EC%A7%80%EC%85%98_%EC%98%88%EC%B8%A1_%EC%8B%A4%EC%8A%B5.ipynb\" target=\"_parent\"><img src=\"https://colab.research.google.com/assets/colab-badge.svg\" alt=\"Open In Colab\"/></a>"
      ]
    },
    {
      "cell_type": "code",
      "execution_count": 14,
      "metadata": {
        "id": "HgLIuAXROT0p"
      },
      "outputs": [],
      "source": [
        "import pandas as pd\n",
        "import pickle\n",
        "import matplotlib.pyplot as plt\n",
        "import seaborn as sns\n",
        "%matplotlib inline"
      ]
    },
    {
      "cell_type": "markdown",
      "metadata": {
        "id": "e_PDvIJTOT0s"
      },
      "source": [
        "# Dataset (학습 데이터, 테스트 데이터)"
      ]
    },
    {
      "cell_type": "code",
      "execution_count": 15,
      "metadata": {
        "id": "Wg2x3AQROT0u"
      },
      "outputs": [],
      "source": [
        "# # csv 파일로부터 데이터 수집\n",
        "# df = pd.read_csv(\"./basketball_stat.csv\")\n",
        "# print(df)"
      ]
    },
    {
      "cell_type": "code",
      "source": [
        "from google.colab import drive\n",
        "drive.mount('/gdrive')"
      ],
      "metadata": {
        "colab": {
          "base_uri": "https://localhost:8080/"
        },
        "id": "E55VdMSdG3VP",
        "outputId": "6cba2588-4f0a-4a67-ce52-7790bf470fa1"
      },
      "execution_count": 16,
      "outputs": [
        {
          "output_type": "stream",
          "name": "stdout",
          "text": [
            "Mounted at /gdrive\n"
          ]
        }
      ]
    },
    {
      "cell_type": "code",
      "source": [
        "from google.colab import drive\n",
        "drive.mount('/content/drive')"
      ],
      "metadata": {
        "id": "KsqktSzbod2i",
        "outputId": "b3e08333-f0d5-4fd8-9db4-858ef619f477",
        "colab": {
          "base_uri": "https://localhost:8080/"
        }
      },
      "execution_count": 17,
      "outputs": [
        {
          "output_type": "stream",
          "name": "stdout",
          "text": [
            "Mounted at /content/drive\n"
          ]
        }
      ]
    },
    {
      "cell_type": "code",
      "source": [
        "df = pd.read_csv('./basketball_stat.csv')"
      ],
      "metadata": {
        "id": "4UzSHoupG45v"
      },
      "execution_count": 18,
      "outputs": []
    },
    {
      "cell_type": "markdown",
      "source": [
        "![image.png](data:image/png;base64,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)"
      ],
      "metadata": {
        "id": "gFgKQ6Hk6EXi"
      }
    },
    {
      "cell_type": "code",
      "source": [
        "# 현재 가지고 있는 데이터에서 포지션 개수 확인\n",
        "df.Pos.value_counts()"
      ],
      "metadata": {
        "id": "MZ71QSY_QBqF",
        "colab": {
          "base_uri": "https://localhost:8080/"
        },
        "outputId": "ae4b5e31-a16e-49ec-87ab-775c2686ab62"
      },
      "execution_count": 19,
      "outputs": [
        {
          "output_type": "execute_result",
          "data": {
            "text/plain": [
              "C     50\n",
              "SG    50\n",
              "Name: Pos, dtype: int64"
            ]
          },
          "metadata": {},
          "execution_count": 19
        }
      ]
    },
    {
      "cell_type": "markdown",
      "source": [
        "#필요한 속성\n",
        "\n",
        "C -> 센터, TRB BLK\n",
        "\n",
        "SG -> 슈팅가드, 3P"
      ],
      "metadata": {
        "id": "Yey-SeVDin3Z"
      }
    },
    {
      "cell_type": "code",
      "source": [
        "# 분별력이 없는 특징(feature) 데이터로부터 제거\n",
        "df.drop(['2P', 'AST', 'STL'], axis=1, inplace = True)\n",
        "print(df)"
      ],
      "metadata": {
        "id": "L9fYadJRQJ2y",
        "colab": {
          "base_uri": "https://localhost:8080/"
        },
        "outputId": "7e5a4603-4d7b-477a-8997-f725a6428a9f"
      },
      "execution_count": 20,
      "outputs": [
        {
          "output_type": "stream",
          "name": "stdout",
          "text": [
            "              Player Pos   3P   TRB  BLK\n",
            "0       Alex Abrines  SG  1.4   1.3  0.1\n",
            "1       Steven Adams   C  0.0   7.7  1.0\n",
            "2      Alexis Ajinca   C  0.0   4.5  0.6\n",
            "3     Chris Andersen   C  0.0   2.6  0.6\n",
            "4        Will Barton  SG  1.5   4.3  0.5\n",
            "..               ...  ..  ...   ...  ...\n",
            "95    Nikola Vucevic   C  0.3  10.4  1.0\n",
            "96       Dwyane Wade  SG  0.8   4.5  0.7\n",
            "97      Dion Waiters  SG  1.8   3.3  0.4\n",
            "98  Hassan Whiteside   C  0.0  14.1  2.1\n",
            "99      Lou Williams  SG  2.0   2.5  0.2\n",
            "\n",
            "[100 rows x 5 columns]\n"
          ]
        }
      ]
    },
    {
      "cell_type": "code",
      "source": [
        "from sklearn.model_selection import train_test_split\n",
        "\n",
        "# 20%를 테스트 데이터로 분류\n",
        "train, test = train_test_split(df, test_size=0.2)"
      ],
      "metadata": {
        "id": "bILNDWoOQLX4"
      },
      "execution_count": 21,
      "outputs": []
    },
    {
      "cell_type": "code",
      "source": [
        "# 학습 데이터의 개수 확인\n",
        "train.shape[0]"
      ],
      "metadata": {
        "id": "uXj6xHw4QNO2",
        "colab": {
          "base_uri": "https://localhost:8080/"
        },
        "outputId": "be255b4f-7b72-402b-b77a-ab078fa58146"
      },
      "execution_count": 22,
      "outputs": [
        {
          "output_type": "execute_result",
          "data": {
            "text/plain": [
              "80"
            ]
          },
          "metadata": {},
          "execution_count": 22
        }
      ]
    },
    {
      "cell_type": "code",
      "source": [
        "# 테스트 데이터의 개수 확인\n",
        "test.shape[0]"
      ],
      "metadata": {
        "id": "NdHRXgpiQOdJ",
        "colab": {
          "base_uri": "https://localhost:8080/"
        },
        "outputId": "793f61d9-bdae-4e37-99a0-5a654bcd2487"
      },
      "execution_count": 23,
      "outputs": [
        {
          "output_type": "execute_result",
          "data": {
            "text/plain": [
              "20"
            ]
          },
          "metadata": {},
          "execution_count": 23
        }
      ]
    },
    {
      "cell_type": "code",
      "source": [
        "import pickle\n",
        "with open('./basketball_train.pkl', 'wb') as train_data:\n",
        "    pickle.dump(train, train_data)\n",
        "    \n",
        "with open('./basketball_test.pkl', 'wb') as test_data:\n",
        "    pickle.dump(test, test_data)"
      ],
      "metadata": {
        "id": "ireOxsEzQQff"
      },
      "execution_count": 24,
      "outputs": []
    },
    {
      "cell_type": "code",
      "source": [
        "with open('./basketball_train.pkl', 'rb') as train_data:\n",
        "    train = pickle.load(train_data)\n",
        "    \n",
        "with open('./basketball_test.pkl', 'rb') as test_data:\n",
        "    test = pickle.load(test_data)"
      ],
      "metadata": {
        "id": "WLRH8mvuQX_H"
      },
      "execution_count": 25,
      "outputs": []
    },
    {
      "cell_type": "markdown",
      "metadata": {
        "id": "bbX48-QmOT0u"
      },
      "source": [
        "# 최적의 k 찾기 (교차 검증 - cross validation)"
      ]
    },
    {
      "cell_type": "code",
      "execution_count": 26,
      "metadata": {
        "id": "mfEiLouNOT0v",
        "colab": {
          "base_uri": "https://localhost:8080/"
        },
        "outputId": "3fb25314-60bf-4c17-e529-c9a4f0045468"
      },
      "outputs": [
        {
          "output_type": "execute_result",
          "data": {
            "text/plain": [
              "[0.9375,\n",
              " 0.9125,\n",
              " 0.925,\n",
              " 0.9125,\n",
              " 0.925,\n",
              " 0.9125,\n",
              " 0.9125,\n",
              " 0.9125,\n",
              " 0.9125,\n",
              " 0.9125,\n",
              " 0.8875,\n",
              " 0.8875,\n",
              " 0.875,\n",
              " 0.875,\n",
              " 0.875,\n",
              " 0.8375,\n",
              " 0.85,\n",
              " 0.825,\n",
              " 0.8125]"
            ]
          },
          "metadata": {},
          "execution_count": 26
        }
      ],
      "source": [
        "# import kNN library\n",
        "from sklearn.neighbors import KNeighborsClassifier\n",
        "from sklearn.model_selection import cross_val_score\n",
        "\n",
        "# find best k, range from 3 to half of the number of data (k -> 3~40)\n",
        "max_k_range = train.shape[0] // 2\n",
        "k_list = []\n",
        "for i in range(3, max_k_range, 2):\n",
        "    k_list.append(i)\n",
        " \n",
        "cross_validation_scores = []\n",
        "x_train = train[['3P', 'BLK' , 'TRB']]\n",
        "y_train = train[['Pos']]\n",
        "\n",
        "# 10-fold cross validation\n",
        "for k in k_list:\n",
        "    knn = KNeighborsClassifier(n_neighbors=k)\n",
        "    scores = cross_val_score(knn, x_train, y_train.values.ravel(),\n",
        "                             cv=10, scoring='accuracy')\n",
        "    cross_validation_scores.append(scores.mean())\n",
        "\n",
        "cross_validation_scores"
      ]
    },
    {
      "cell_type": "code",
      "execution_count": 27,
      "metadata": {
        "id": "XdZBDJA2OT0w",
        "colab": {
          "base_uri": "https://localhost:8080/",
          "height": 279
        },
        "outputId": "8176dcc2-9c92-4e3f-ee7f-fee49fea4bf7"
      },
      "outputs": [
        {
          "output_type": "display_data",
          "data": {
            "image/png": "[encoded data removed]",
            "text/plain": [
              "<Figure size 432x288 with 1 Axes>"
            ]
          },
          "metadata": {
            "needs_background": "light"
          }
        }
      ],
      "source": [
        "# visualize accuracy according to k\n",
        "plt.plot(k_list, cross_validation_scores)\n",
        "plt.xlabel('the number of k')\n",
        "plt.ylabel('Accuracy')\n",
        "plt.show()"
      ]
    },
    {
      "cell_type": "code",
      "execution_count": 28,
      "metadata": {
        "id": "aQQbLuSNOT0x",
        "colab": {
          "base_uri": "https://localhost:8080/"
        },
        "outputId": "642b5810-7838-4af7-9e8b-c2cbde71a44d"
      },
      "outputs": [
        {
          "output_type": "stream",
          "name": "stdout",
          "text": [
            "The best number of k : 3\n"
          ]
        }
      ],
      "source": [
        "# find best k\n",
        "cvs = cross_validation_scores\n",
        "k = k_list[cvs.index(max(cross_validation_scores))]\n",
        "print(\"The best number of k : \" + str(k) )"
      ]
    },
    {
      "cell_type": "markdown",
      "metadata": {
        "id": "o74SzGi5OT0y"
      },
      "source": [
        "# 2개의 특징으로 예측하기 (3점슛, 블로킹)"
      ]
    },
    {
      "cell_type": "code",
      "execution_count": 29,
      "metadata": {
        "id": "CO53NU7ZOT0y"
      },
      "outputs": [],
      "source": [
        "# import libraries\n",
        "from sklearn.neighbors import KNeighborsClassifier\n",
        "from sklearn.metrics import accuracy_score\n",
        "\n",
        "knn = KNeighborsClassifier(n_neighbors=k)\n",
        "\n",
        "# select data features\n",
        "x_train = train[['3P', 'BLK']]\n",
        "# select target value\n",
        "y_train = train[['Pos']]\n",
        "\n",
        "# setup knn using train data\n",
        "knn.fit(x_train, y_train.values.ravel())\n",
        "\n",
        "# select data feature to be used for prediction\n",
        "x_test = test[['3P', 'BLK']]\n",
        "\n",
        "# select target value\n",
        "y_test = test[['Pos']]\n",
        "\n",
        "# test\n",
        "pred = knn.predict(x_test)"
      ]
    },
    {
      "cell_type": "code",
      "execution_count": 30,
      "metadata": {
        "id": "WCx-RrewOT0z",
        "colab": {
          "base_uri": "https://localhost:8080/",
          "height": 677
        },
        "outputId": "eeb3a094-1484-41c5-f6bc-66b6b451c8d3"
      },
      "outputs": [
        {
          "output_type": "execute_result",
          "data": {
            "text/html": [
              "\n",
              "  <div id=\"df-1ced802a-86cb-4dd7-951c-1d730e554b75\">\n",
              "    <div class=\"colab-df-container\">\n",
              "      <div>\n",
              "<style scoped>\n",
              "    .dataframe tbody tr th:only-of-type {\n",
              "        vertical-align: middle;\n",
              "    }\n",
              "\n",
              "    .dataframe tbody tr th {\n",
              "        vertical-align: top;\n",
              "    }\n",
              "\n",
              "    .dataframe thead th {\n",
              "        text-align: right;\n",
              "    }\n",
              "</style>\n",
              "<table border=\"1\" class=\"dataframe\">\n",
              "  <thead>\n",
              "    <tr style=\"text-align: right;\">\n",
              "      <th></th>\n",
              "      <th>prediction</th>\n",
              "      <th>ground_truth</th>\n",
              "    </tr>\n",
              "  </thead>\n",
              "  <tbody>\n",
              "    <tr>\n",
              "      <th>0</th>\n",
              "      <td>C</td>\n",
              "      <td>C</td>\n",
              "    </tr>\n",
              "    <tr>\n",
              "      <th>1</th>\n",
              "      <td>SG</td>\n",
              "      <td>SG</td>\n",
              "    </tr>\n",
              "    <tr>\n",
              "      <th>2</th>\n",
              "      <td>SG</td>\n",
              "      <td>SG</td>\n",
              "    </tr>\n",
              "    <tr>\n",
              "      <th>3</th>\n",
              "      <td>C</td>\n",
              "      <td>C</td>\n",
              "    </tr>\n",
              "    <tr>\n",
              "      <th>4</th>\n",
              "      <td>SG</td>\n",
              "      <td>SG</td>\n",
              "    </tr>\n",
              "    <tr>\n",
              "      <th>5</th>\n",
              "      <td>SG</td>\n",
              "      <td>SG</td>\n",
              "    </tr>\n",
              "    <tr>\n",
              "      <th>6</th>\n",
              "      <td>SG</td>\n",
              "      <td>SG</td>\n",
              "    </tr>\n",
              "    <tr>\n",
              "      <th>7</th>\n",
              "      <td>SG</td>\n",
              "      <td>C</td>\n",
              "    </tr>\n",
              "    <tr>\n",
              "      <th>8</th>\n",
              "      <td>SG</td>\n",
              "      <td>SG</td>\n",
              "    </tr>\n",
              "    <tr>\n",
              "      <th>9</th>\n",
              "      <td>SG</td>\n",
              "      <td>SG</td>\n",
              "    </tr>\n",
              "    <tr>\n",
              "      <th>10</th>\n",
              "      <td>C</td>\n",
              "      <td>C</td>\n",
              "    </tr>\n",
              "    <tr>\n",
              "      <th>11</th>\n",
              "      <td>C</td>\n",
              "      <td>C</td>\n",
              "    </tr>\n",
              "    <tr>\n",
              "      <th>12</th>\n",
              "      <td>SG</td>\n",
              "      <td>SG</td>\n",
              "    </tr>\n",
              "    <tr>\n",
              "      <th>13</th>\n",
              "      <td>C</td>\n",
              "      <td>C</td>\n",
              "    </tr>\n",
              "    <tr>\n",
              "      <th>14</th>\n",
              "      <td>SG</td>\n",
              "      <td>C</td>\n",
              "    </tr>\n",
              "    <tr>\n",
              "      <th>15</th>\n",
              "      <td>C</td>\n",
              "      <td>C</td>\n",
              "    </tr>\n",
              "    <tr>\n",
              "      <th>16</th>\n",
              "      <td>C</td>\n",
              "      <td>C</td>\n",
              "    </tr>\n",
              "    <tr>\n",
              "      <th>17</th>\n",
              "      <td>C</td>\n",
              "      <td>C</td>\n",
              "    </tr>\n",
              "    <tr>\n",
              "      <th>18</th>\n",
              "      <td>SG</td>\n",
              "      <td>SG</td>\n",
              "    </tr>\n",
              "    <tr>\n",
              "      <th>19</th>\n",
              "      <td>SG</td>\n",
              "      <td>SG</td>\n",
              "    </tr>\n",
              "  </tbody>\n",
              "</table>\n",
              "</div>\n",
              "      <button class=\"colab-df-convert\" onclick=\"convertToInteractive('df-1ced802a-86cb-4dd7-951c-1d730e554b75')\"\n",
              "              title=\"Convert this dataframe to an interactive table.\"\n",
              "              style=\"display:none;\">\n",
              "        \n",
              "  <svg xmlns=\"http://www.w3.org/2000/svg\" height=\"24px\"viewBox=\"0 0 24 24\"\n",
              "       width=\"24px\">\n",
              "    <path d=\"M0 0h24v24H0V0z\" fill=\"none\"/>\n",
              "    <path d=\"M18.56 5.44l.94 2.06.94-2.06 2.06-.94-2.06-.94-.94-2.06-.94 2.06-2.06.94zm-11 1L8.5 8.5l.94-2.06 2.06-.94-2.06-.94L8.5 2.5l-.94 2.06-2.06.94zm10 10l.94 2.06.94-2.06 2.06-.94-2.06-.94-.94-2.06-.94 2.06-2.06.94z\"/><path d=\"M17.41 7.96l-1.37-1.37c-.4-.4-.92-.59-1.43-.59-.52 0-1.04.2-1.43.59L10.3 9.45l-7.72 7.72c-.78.78-.78 2.05 0 2.83L4 21.41c.39.39.9.59 1.41.59.51 0 1.02-.2 1.41-.59l7.78-7.78 2.81-2.81c.8-.78.8-2.07 0-2.86zM5.41 20L4 18.59l7.72-7.72 1.47 1.35L5.41 20z\"/>\n",
              "  </svg>\n",
              "      </button>\n",
              "      \n",
              "  <style>\n",
              "    .colab-df-container {\n",
              "      display:flex;\n",
              "      flex-wrap:wrap;\n",
              "      gap: 12px;\n",
              "    }\n",
              "\n",
              "    .colab-df-convert {\n",
              "      background-color: #E8F0FE;\n",
              "      border: none;\n",
              "      border-radius: 50%;\n",
              "      cursor: pointer;\n",
              "      display: none;\n",
              "      fill: #1967D2;\n",
              "      height: 32px;\n",
              "      padding: 0 0 0 0;\n",
              "      width: 32px;\n",
              "    }\n",
              "\n",
              "    .colab-df-convert:hover {\n",
              "      background-color: #E2EBFA;\n",
              "      box-shadow: 0px 1px 2px rgba(60, 64, 67, 0.3), 0px 1px 3px 1px rgba(60, 64, 67, 0.15);\n",
              "      fill: #174EA6;\n",
              "    }\n",
              "\n",
              "    [theme=dark] .colab-df-convert {\n",
              "      background-color: #3B4455;\n",
              "      fill: #D2E3FC;\n",
              "    }\n",
              "\n",
              "    [theme=dark] .colab-df-convert:hover {\n",
              "      background-color: #434B5C;\n",
              "      box-shadow: 0px 1px 3px 1px rgba(0, 0, 0, 0.15);\n",
              "      filter: drop-shadow(0px 1px 2px rgba(0, 0, 0, 0.3));\n",
              "      fill: #FFFFFF;\n",
              "    }\n",
              "  </style>\n",
              "\n",
              "      <script>\n",
              "        const buttonEl =\n",
              "          document.querySelector('#df-1ced802a-86cb-4dd7-951c-1d730e554b75 button.colab-df-convert');\n",
              "        buttonEl.style.display =\n",
              "          google.colab.kernel.accessAllowed ? 'block' : 'none';\n",
              "\n",
              "        async function convertToInteractive(key) {\n",
              "          const element = document.querySelector('#df-1ced802a-86cb-4dd7-951c-1d730e554b75');\n",
              "          const dataTable =\n",
              "            await google.colab.kernel.invokeFunction('convertToInteractive',\n",
              "                                                     [key], {});\n",
              "          if (!dataTable) return;\n",
              "\n",
              "          const docLinkHtml = 'Like what you see? Visit the ' +\n",
              "            '<a target=\"_blank\" href=https://colab.research.google.com/notebooks/data_table.ipynb>data table notebook</a>'\n",
              "            + ' to learn more about interactive tables.';\n",
              "          element.innerHTML = '';\n",
              "          dataTable['output_type'] = 'display_data';\n",
              "          await google.colab.output.renderOutput(dataTable, element);\n",
              "          const docLink = document.createElement('div');\n",
              "          docLink.innerHTML = docLinkHtml;\n",
              "          element.appendChild(docLink);\n",
              "        }\n",
              "      </script>\n",
              "    </div>\n",
              "  </div>\n",
              "  "
            ],
            "text/plain": [
              "   prediction ground_truth\n",
              "0           C            C\n",
              "1          SG           SG\n",
              "2          SG           SG\n",
              "3           C            C\n",
              "4          SG           SG\n",
              "5          SG           SG\n",
              "6          SG           SG\n",
              "7          SG            C\n",
              "8          SG           SG\n",
              "9          SG           SG\n",
              "10          C            C\n",
              "11          C            C\n",
              "12         SG           SG\n",
              "13          C            C\n",
              "14         SG            C\n",
              "15          C            C\n",
              "16          C            C\n",
              "17          C            C\n",
              "18         SG           SG\n",
              "19         SG           SG"
            ]
          },
          "metadata": {},
          "execution_count": 30
        }
      ],
      "source": [
        "# check ground_truth with knn prediction\n",
        "comparison = pd.DataFrame(\n",
        "    {'prediction':pred, 'ground_truth':y_test.values.ravel()}) \n",
        "comparison"
      ]
    },
    {
      "cell_type": "code",
      "execution_count": 31,
      "metadata": {
        "id": "gBc9iOszOT0z",
        "colab": {
          "base_uri": "https://localhost:8080/"
        },
        "outputId": "97b5f492-8375-4e07-a4a3-2fa5e80b0732"
      },
      "outputs": [
        {
          "output_type": "stream",
          "name": "stdout",
          "text": [
            "accuracy : 0.9\n"
          ]
        }
      ],
      "source": [
        "# check accuracy\n",
        "print(\"accuracy : \"+ \n",
        "          str(accuracy_score(y_test.values.ravel(), pred)) )"
      ]
    },
    {
      "cell_type": "markdown",
      "metadata": {
        "id": "v8bo3hIgOT00"
      },
      "source": [
        "# 3개의 특징으로 예측하기 (3점슛, 블로킹, 리바운드)"
      ]
    },
    {
      "cell_type": "code",
      "execution_count": 32,
      "metadata": {
        "id": "UOcf5Fi2OT00"
      },
      "outputs": [],
      "source": [
        "knn = KNeighborsClassifier(n_neighbors=k)\n",
        "\n",
        "# select data features to be used in train\n",
        "x_train = train[['3P', 'BLK', 'TRB']]\n",
        "# select target\n",
        "y_train = train[['Pos']]\n",
        "\n",
        "# build knn model\n",
        "knn.fit(x_train, y_train.values.ravel())\n",
        "\n",
        "# select features to be used for prediction\n",
        "x_test = test[['3P', 'BLK', 'TRB']]\n",
        "\n",
        "# select target\n",
        "y_test = test[['Pos']]\n",
        "\n",
        "# test\n",
        "pred = knn.predict(x_test)"
      ]
    },
    {
      "cell_type": "code",
      "execution_count": 33,
      "metadata": {
        "id": "UDKJs3iTOT01",
        "colab": {
          "base_uri": "https://localhost:8080/",
          "height": 677
        },
        "outputId": "a1515e7b-4b08-49c6-b74f-1ad01ed82bcd"
      },
      "outputs": [
        {
          "output_type": "execute_result",
          "data": {
            "text/html": [
              "\n",
              "  <div id=\"df-58ce2564-3d22-4665-8b7e-95ef41a541d2\">\n",
              "    <div class=\"colab-df-container\">\n",
              "      <div>\n",
              "<style scoped>\n",
              "    .dataframe tbody tr th:only-of-type {\n",
              "        vertical-align: middle;\n",
              "    }\n",
              "\n",
              "    .dataframe tbody tr th {\n",
              "        vertical-align: top;\n",
              "    }\n",
              "\n",
              "    .dataframe thead th {\n",
              "        text-align: right;\n",
              "    }\n",
              "</style>\n",
              "<table border=\"1\" class=\"dataframe\">\n",
              "  <thead>\n",
              "    <tr style=\"text-align: right;\">\n",
              "      <th></th>\n",
              "      <th>prediction</th>\n",
              "      <th>ground_truth</th>\n",
              "    </tr>\n",
              "  </thead>\n",
              "  <tbody>\n",
              "    <tr>\n",
              "      <th>0</th>\n",
              "      <td>C</td>\n",
              "      <td>C</td>\n",
              "    </tr>\n",
              "    <tr>\n",
              "      <th>1</th>\n",
              "      <td>SG</td>\n",
              "      <td>SG</td>\n",
              "    </tr>\n",
              "    <tr>\n",
              "      <th>2</th>\n",
              "      <td>SG</td>\n",
              "      <td>SG</td>\n",
              "    </tr>\n",
              "    <tr>\n",
              "      <th>3</th>\n",
              "      <td>C</td>\n",
              "      <td>C</td>\n",
              "    </tr>\n",
              "    <tr>\n",
              "      <th>4</th>\n",
              "      <td>SG</td>\n",
              "      <td>SG</td>\n",
              "    </tr>\n",
              "    <tr>\n",
              "      <th>5</th>\n",
              "      <td>SG</td>\n",
              "      <td>SG</td>\n",
              "    </tr>\n",
              "    <tr>\n",
              "      <th>6</th>\n",
              "      <td>SG</td>\n",
              "      <td>SG</td>\n",
              "    </tr>\n",
              "    <tr>\n",
              "      <th>7</th>\n",
              "      <td>SG</td>\n",
              "      <td>C</td>\n",
              "    </tr>\n",
              "    <tr>\n",
              "      <th>8</th>\n",
              "      <td>SG</td>\n",
              "      <td>SG</td>\n",
              "    </tr>\n",
              "    <tr>\n",
              "      <th>9</th>\n",
              "      <td>SG</td>\n",
              "      <td>SG</td>\n",
              "    </tr>\n",
              "    <tr>\n",
              "      <th>10</th>\n",
              "      <td>C</td>\n",
              "      <td>C</td>\n",
              "    </tr>\n",
              "    <tr>\n",
              "      <th>11</th>\n",
              "      <td>C</td>\n",
              "      <td>C</td>\n",
              "    </tr>\n",
              "    <tr>\n",
              "      <th>12</th>\n",
              "      <td>SG</td>\n",
              "      <td>SG</td>\n",
              "    </tr>\n",
              "    <tr>\n",
              "      <th>13</th>\n",
              "      <td>C</td>\n",
              "      <td>C</td>\n",
              "    </tr>\n",
              "    <tr>\n",
              "      <th>14</th>\n",
              "      <td>C</td>\n",
              "      <td>C</td>\n",
              "    </tr>\n",
              "    <tr>\n",
              "      <th>15</th>\n",
              "      <td>SG</td>\n",
              "      <td>C</td>\n",
              "    </tr>\n",
              "    <tr>\n",
              "      <th>16</th>\n",
              "      <td>C</td>\n",
              "      <td>C</td>\n",
              "    </tr>\n",
              "    <tr>\n",
              "      <th>17</th>\n",
              "      <td>C</td>\n",
              "      <td>C</td>\n",
              "    </tr>\n",
              "    <tr>\n",
              "      <th>18</th>\n",
              "      <td>SG</td>\n",
              "      <td>SG</td>\n",
              "    </tr>\n",
              "    <tr>\n",
              "      <th>19</th>\n",
              "      <td>SG</td>\n",
              "      <td>SG</td>\n",
              "    </tr>\n",
              "  </tbody>\n",
              "</table>\n",
              "</div>\n",
              "      <button class=\"colab-df-convert\" onclick=\"convertToInteractive('df-58ce2564-3d22-4665-8b7e-95ef41a541d2')\"\n",
              "              title=\"Convert this dataframe to an interactive table.\"\n",
              "              style=\"display:none;\">\n",
              "        \n",
              "  <svg xmlns=\"http://www.w3.org/2000/svg\" height=\"24px\"viewBox=\"0 0 24 24\"\n",
              "       width=\"24px\">\n",
              "    <path d=\"M0 0h24v24H0V0z\" fill=\"none\"/>\n",
              "    <path d=\"M18.56 5.44l.94 2.06.94-2.06 2.06-.94-2.06-.94-.94-2.06-.94 2.06-2.06.94zm-11 1L8.5 8.5l.94-2.06 2.06-.94-2.06-.94L8.5 2.5l-.94 2.06-2.06.94zm10 10l.94 2.06.94-2.06 2.06-.94-2.06-.94-.94-2.06-.94 2.06-2.06.94z\"/><path d=\"M17.41 7.96l-1.37-1.37c-.4-.4-.92-.59-1.43-.59-.52 0-1.04.2-1.43.59L10.3 9.45l-7.72 7.72c-.78.78-.78 2.05 0 2.83L4 21.41c.39.39.9.59 1.41.59.51 0 1.02-.2 1.41-.59l7.78-7.78 2.81-2.81c.8-.78.8-2.07 0-2.86zM5.41 20L4 18.59l7.72-7.72 1.47 1.35L5.41 20z\"/>\n",
              "  </svg>\n",
              "      </button>\n",
              "      \n",
              "  <style>\n",
              "    .colab-df-container {\n",
              "      display:flex;\n",
              "      flex-wrap:wrap;\n",
              "      gap: 12px;\n",
              "    }\n",
              "\n",
              "    .colab-df-convert {\n",
              "      background-color: #E8F0FE;\n",
              "      border: none;\n",
              "      border-radius: 50%;\n",
              "      cursor: pointer;\n",
              "      display: none;\n",
              "      fill: #1967D2;\n",
              "      height: 32px;\n",
              "      padding: 0 0 0 0;\n",
              "      width: 32px;\n",
              "    }\n",
              "\n",
              "    .colab-df-convert:hover {\n",
              "      background-color: #E2EBFA;\n",
              "      box-shadow: 0px 1px 2px rgba(60, 64, 67, 0.3), 0px 1px 3px 1px rgba(60, 64, 67, 0.15);\n",
              "      fill: #174EA6;\n",
              "    }\n",
              "\n",
              "    [theme=dark] .colab-df-convert {\n",
              "      background-color: #3B4455;\n",
              "      fill: #D2E3FC;\n",
              "    }\n",
              "\n",
              "    [theme=dark] .colab-df-convert:hover {\n",
              "      background-color: #434B5C;\n",
              "      box-shadow: 0px 1px 3px 1px rgba(0, 0, 0, 0.15);\n",
              "      filter: drop-shadow(0px 1px 2px rgba(0, 0, 0, 0.3));\n",
              "      fill: #FFFFFF;\n",
              "    }\n",
              "  </style>\n",
              "\n",
              "      <script>\n",
              "        const buttonEl =\n",
              "          document.querySelector('#df-58ce2564-3d22-4665-8b7e-95ef41a541d2 button.colab-df-convert');\n",
              "        buttonEl.style.display =\n",
              "          google.colab.kernel.accessAllowed ? 'block' : 'none';\n",
              "\n",
              "        async function convertToInteractive(key) {\n",
              "          const element = document.querySelector('#df-58ce2564-3d22-4665-8b7e-95ef41a541d2');\n",
              "          const dataTable =\n",
              "            await google.colab.kernel.invokeFunction('convertToInteractive',\n",
              "                                                     [key], {});\n",
              "          if (!dataTable) return;\n",
              "\n",
              "          const docLinkHtml = 'Like what you see? Visit the ' +\n",
              "            '<a target=\"_blank\" href=https://colab.research.google.com/notebooks/data_table.ipynb>data table notebook</a>'\n",
              "            + ' to learn more about interactive tables.';\n",
              "          element.innerHTML = '';\n",
              "          dataTable['output_type'] = 'display_data';\n",
              "          await google.colab.output.renderOutput(dataTable, element);\n",
              "          const docLink = document.createElement('div');\n",
              "          docLink.innerHTML = docLinkHtml;\n",
              "          element.appendChild(docLink);\n",
              "        }\n",
              "      </script>\n",
              "    </div>\n",
              "  </div>\n",
              "  "
            ],
            "text/plain": [
              "   prediction ground_truth\n",
              "0           C            C\n",
              "1          SG           SG\n",
              "2          SG           SG\n",
              "3           C            C\n",
              "4          SG           SG\n",
              "5          SG           SG\n",
              "6          SG           SG\n",
              "7          SG            C\n",
              "8          SG           SG\n",
              "9          SG           SG\n",
              "10          C            C\n",
              "11          C            C\n",
              "12         SG           SG\n",
              "13          C            C\n",
              "14          C            C\n",
              "15         SG            C\n",
              "16          C            C\n",
              "17          C            C\n",
              "18         SG           SG\n",
              "19         SG           SG"
            ]
          },
          "metadata": {},
          "execution_count": 33
        }
      ],
      "source": [
        "# check ground_truth with knn prediction\n",
        "comparison = pd.DataFrame(\n",
        "    {'prediction':pred, 'ground_truth':y_test.values.ravel()}) \n",
        "comparison"
      ]
    },
    {
      "cell_type": "code",
      "execution_count": 34,
      "metadata": {
        "id": "WXfiKBxrOT01",
        "colab": {
          "base_uri": "https://localhost:8080/"
        },
        "outputId": "ce08b77b-8e1e-4da8-9fb9-52ba282c75a4"
      },
      "outputs": [
        {
          "output_type": "stream",
          "name": "stdout",
          "text": [
            "accuracy : 0.9\n"
          ]
        }
      ],
      "source": [
        "# check accuracy\n",
        "print(\"accuracy : \" + \n",
        "          str( accuracy_score(y_test.values.ravel(), pred)) )"
      ]
    }
  ],
  "metadata": {
    "kernelspec": {
      "display_name": "Python 3",
      "language": "python",
      "name": "python3"
    },
    "language_info": {
      "codemirror_mode": {
        "name": "ipython",
        "version": 3
      },
      "file_extension": ".py",
      "mimetype": "text/x-python",
      "name": "python",
      "nbconvert_exporter": "python",
      "pygments_lexer": "ipython3",
      "version": "3.6.4"
    },
    "colab": {
      "name": "knn_농구선수_포지션_예측_실습.ipynb",
      "provenance": [],
      "include_colab_link": true
    }
  },
  "nbformat": 4,
  "nbformat_minor": 0
}